{
  "nbformat": 4,
  "nbformat_minor": 0,
  "metadata": {
    "colab": {
      "provenance": []
    },
    "kernelspec": {
      "name": "python3",
      "display_name": "Python 3"
    },
    "accelerator": "GPU",
    "gpuClass": "standard"
  },
  "cells": [
    {
      "cell_type": "markdown",
      "metadata": {
        "id": "dr6MvAdKZGRo"
      },
      "source": [
        "#Ejemplo de clasificación multiclase con Keras + TensorFlow"
      ]
    },
    {
      "cell_type": "markdown",
      "metadata": {
        "id": "A9tcpRrPLDbg"
      },
      "source": [
        "##1. Subir el conjunto de datos a nuestro espacio en Colab\n",
        "Lo primero que vamos a hacer es subir el fichero de datos que nos hemos descargado de la web de la asignatura a nuestro espacio en Colab.\n",
        "\n",
        "Para ello ejecutamos el siguiente trozo de código y seleccionamos el fichero adecuado.\n",
        "\n",
        "También podéis incorporarlo a vuestro Drive si activáis el acceso a Drive en el menú de la izquierda."
      ]
    },
    {
      "cell_type": "code",
      "metadata": {
        "id": "SEw72UfiLCpf",
        "colab": {
          "base_uri": "https://localhost:8080/",
          "height": 423
        },
        "outputId": "361fe7bb-6de3-411f-bef0-42c4d9ba58c8"
      },
      "source": [
        "from google.colab import files\n",
        "files.upload()"
      ],
      "execution_count": null,
      "outputs": [
        {
          "output_type": "display_data",
          "data": {
            "text/plain": [
              "<IPython.core.display.HTML object>"
            ],
            "text/html": [
              "\n",
              "     <input type=\"file\" id=\"files-1e8a0cdc-c2a3-4fa1-82a4-9d3220395557\" name=\"files[]\" multiple disabled\n",
              "        style=\"border:none\" />\n",
              "     <output id=\"result-1e8a0cdc-c2a3-4fa1-82a4-9d3220395557\">\n",
              "      Upload widget is only available when the cell has been executed in the\n",
              "      current browser session. Please rerun this cell to enable.\n",
              "      </output>\n",
              "      <script>// Copyright 2017 Google LLC\n",
              "//\n",
              "// Licensed under the Apache License, Version 2.0 (the \"License\");\n",
              "// you may not use this file except in compliance with the License.\n",
              "// You may obtain a copy of the License at\n",
              "//\n",
              "//      http://www.apache.org/licenses/LICENSE-2.0\n",
              "//\n",
              "// Unless required by applicable law or agreed to in writing, software\n",
              "// distributed under the License is distributed on an \"AS IS\" BASIS,\n",
              "// WITHOUT WARRANTIES OR CONDITIONS OF ANY KIND, either express or implied.\n",
              "// See the License for the specific language governing permissions and\n",
              "// limitations under the License.\n",
              "\n",
              "/**\n",
              " * @fileoverview Helpers for google.colab Python module.\n",
              " */\n",
              "(function(scope) {\n",
              "function span(text, styleAttributes = {}) {\n",
              "  const element = document.createElement('span');\n",
              "  element.textContent = text;\n",
              "  for (const key of Object.keys(styleAttributes)) {\n",
              "    element.style[key] = styleAttributes[key];\n",
              "  }\n",
              "  return element;\n",
              "}\n",
              "\n",
              "// Max number of bytes which will be uploaded at a time.\n",
              "const MAX_PAYLOAD_SIZE = 100 * 1024;\n",
              "\n",
              "function _uploadFiles(inputId, outputId) {\n",
              "  const steps = uploadFilesStep(inputId, outputId);\n",
              "  const outputElement = document.getElementById(outputId);\n",
              "  // Cache steps on the outputElement to make it available for the next call\n",
              "  // to uploadFilesContinue from Python.\n",
              "  outputElement.steps = steps;\n",
              "\n",
              "  return _uploadFilesContinue(outputId);\n",
              "}\n",
              "\n",
              "// This is roughly an async generator (not supported in the browser yet),\n",
              "// where there are multiple asynchronous steps and the Python side is going\n",
              "// to poll for completion of each step.\n",
              "// This uses a Promise to block the python side on completion of each step,\n",
              "// then passes the result of the previous step as the input to the next step.\n",
              "function _uploadFilesContinue(outputId) {\n",
              "  const outputElement = document.getElementById(outputId);\n",
              "  const steps = outputElement.steps;\n",
              "\n",
              "  const next = steps.next(outputElement.lastPromiseValue);\n",
              "  return Promise.resolve(next.value.promise).then((value) => {\n",
              "    // Cache the last promise value to make it available to the next\n",
              "    // step of the generator.\n",
              "    outputElement.lastPromiseValue = value;\n",
              "    return next.value.response;\n",
              "  });\n",
              "}\n",
              "\n",
              "/**\n",
              " * Generator function which is called between each async step of the upload\n",
              " * process.\n",
              " * @param {string} inputId Element ID of the input file picker element.\n",
              " * @param {string} outputId Element ID of the output display.\n",
              " * @return {!Iterable<!Object>} Iterable of next steps.\n",
              " */\n",
              "function* uploadFilesStep(inputId, outputId) {\n",
              "  const inputElement = document.getElementById(inputId);\n",
              "  inputElement.disabled = false;\n",
              "\n",
              "  const outputElement = document.getElementById(outputId);\n",
              "  outputElement.innerHTML = '';\n",
              "\n",
              "  const pickedPromise = new Promise((resolve) => {\n",
              "    inputElement.addEventListener('change', (e) => {\n",
              "      resolve(e.target.files);\n",
              "    });\n",
              "  });\n",
              "\n",
              "  const cancel = document.createElement('button');\n",
              "  inputElement.parentElement.appendChild(cancel);\n",
              "  cancel.textContent = 'Cancel upload';\n",
              "  const cancelPromise = new Promise((resolve) => {\n",
              "    cancel.onclick = () => {\n",
              "      resolve(null);\n",
              "    };\n",
              "  });\n",
              "\n",
              "  // Wait for the user to pick the files.\n",
              "  const files = yield {\n",
              "    promise: Promise.race([pickedPromise, cancelPromise]),\n",
              "    response: {\n",
              "      action: 'starting',\n",
              "    }\n",
              "  };\n",
              "\n",
              "  cancel.remove();\n",
              "\n",
              "  // Disable the input element since further picks are not allowed.\n",
              "  inputElement.disabled = true;\n",
              "\n",
              "  if (!files) {\n",
              "    return {\n",
              "      response: {\n",
              "        action: 'complete',\n",
              "      }\n",
              "    };\n",
              "  }\n",
              "\n",
              "  for (const file of files) {\n",
              "    const li = document.createElement('li');\n",
              "    li.append(span(file.name, {fontWeight: 'bold'}));\n",
              "    li.append(span(\n",
              "        `(${file.type || 'n/a'}) - ${file.size} bytes, ` +\n",
              "        `last modified: ${\n",
              "            file.lastModifiedDate ? file.lastModifiedDate.toLocaleDateString() :\n",
              "                                    'n/a'} - `));\n",
              "    const percent = span('0% done');\n",
              "    li.appendChild(percent);\n",
              "\n",
              "    outputElement.appendChild(li);\n",
              "\n",
              "    const fileDataPromise = new Promise((resolve) => {\n",
              "      const reader = new FileReader();\n",
              "      reader.onload = (e) => {\n",
              "        resolve(e.target.result);\n",
              "      };\n",
              "      reader.readAsArrayBuffer(file);\n",
              "    });\n",
              "    // Wait for the data to be ready.\n",
              "    let fileData = yield {\n",
              "      promise: fileDataPromise,\n",
              "      response: {\n",
              "        action: 'continue',\n",
              "      }\n",
              "    };\n",
              "\n",
              "    // Use a chunked sending to avoid message size limits. See b/62115660.\n",
              "    let position = 0;\n",
              "    do {\n",
              "      const length = Math.min(fileData.byteLength - position, MAX_PAYLOAD_SIZE);\n",
              "      const chunk = new Uint8Array(fileData, position, length);\n",
              "      position += length;\n",
              "\n",
              "      const base64 = btoa(String.fromCharCode.apply(null, chunk));\n",
              "      yield {\n",
              "        response: {\n",
              "          action: 'append',\n",
              "          file: file.name,\n",
              "          data: base64,\n",
              "        },\n",
              "      };\n",
              "\n",
              "      let percentDone = fileData.byteLength === 0 ?\n",
              "          100 :\n",
              "          Math.round((position / fileData.byteLength) * 100);\n",
              "      percent.textContent = `${percentDone}% done`;\n",
              "\n",
              "    } while (position < fileData.byteLength);\n",
              "  }\n",
              "\n",
              "  // All done.\n",
              "  yield {\n",
              "    response: {\n",
              "      action: 'complete',\n",
              "    }\n",
              "  };\n",
              "}\n",
              "\n",
              "scope.google = scope.google || {};\n",
              "scope.google.colab = scope.google.colab || {};\n",
              "scope.google.colab._files = {\n",
              "  _uploadFiles,\n",
              "  _uploadFilesContinue,\n",
              "};\n",
              "})(self);\n",
              "</script> "
            ]
          },
          "metadata": {}
        },
        {
          "output_type": "stream",
          "name": "stdout",
          "text": [
            "Saving iris.data.txt to iris.data.txt\n"
          ]
        },
        {
          "output_type": "execute_result",
          "data": {
            "text/plain": [
              "{'iris.data.txt': b'5.1, 3.5, 1.4, 0.2, 1\\r\\n4.9, 3, 1.4, 0.2, 1\\r\\n4.7, 3.2, 1.3, 0.2, 1\\r\\n4.6, 3.1, 1.5, 0.2, 1\\r\\n5, 3.6, 1.4, 0.2, 1\\r\\n5.4, 3.9, 1.7, 0.4, 1\\r\\n4.6, 3.4, 1.4, 0.3, 1\\r\\n5, 3.4, 1.5, 0.2, 1\\r\\n4.4, 2.9, 1.4, 0.2, 1\\r\\n4.9, 3.1, 1.5, 0.1, 1\\r\\n5.4, 3.7, 1.5, 0.2, 1\\r\\n4.8, 3.4, 1.6, 0.2, 1\\r\\n4.8, 3, 1.4, 0.1, 1\\r\\n4.3, 3, 1.1, 0.1, 1\\r\\n5.8, 4, 1.2, 0.2, 1\\r\\n5.7, 4.4, 1.5, 0.4, 1\\r\\n5.4, 3.9, 1.3, 0.4, 1\\r\\n5.1, 3.5, 1.4, 0.3, 1\\r\\n5.7, 3.8, 1.7, 0.3, 1\\r\\n5.1, 3.8, 1.5, 0.3, 1\\r\\n5.4, 3.4, 1.7, 0.2, 1\\r\\n5.1, 3.7, 1.5, 0.4, 1\\r\\n4.6, 3.6, 1, 0.2, 1\\r\\n5.1, 3.3, 1.7, 0.5, 1\\r\\n4.8, 3.4, 1.9, 0.2, 1\\r\\n5, 3, 1.6, 0.2, 1\\r\\n5, 3.4, 1.6, 0.4, 1\\r\\n5.2, 3.5, 1.5, 0.2, 1\\r\\n5.2, 3.4, 1.4, 0.2, 1\\r\\n4.7, 3.2, 1.6, 0.2, 1\\r\\n4.8, 3.1, 1.6, 0.2, 1\\r\\n5.4, 3.4, 1.5, 0.4, 1\\r\\n5.2, 4.1, 1.5, 0.1, 1\\r\\n5.5, 4.2, 1.4, 0.2, 1\\r\\n4.9, 3.1, 1.5, 0.1, 1\\r\\n5, 3.2, 1.2, 0.2, 1\\r\\n5.5, 3.5, 1.3, 0.2, 1\\r\\n4.9, 3.1, 1.5, 0.1, 1\\r\\n4.4, 3, 1.3, 0.2, 1\\r\\n5.1, 3.4, 1.5, 0.2, 1\\r\\n5, 3.5, 1.3, 0.3, 1\\r\\n4.5, 2.3, 1.3, 0.3, 1\\r\\n4.4, 3.2, 1.3, 0.2, 1\\r\\n5, 3.5, 1.6, 0.6, 1\\r\\n5.1, 3.8, 1.9, 0.4, 1\\r\\n4.8, 3, 1.4, 0.3, 1\\r\\n5.1, 3.8, 1.6, 0.2, 1\\r\\n4.6, 3.2, 1.4, 0.2, 1\\r\\n5.3, 3.7, 1.5, 0.2, 1\\r\\n5, 3.3, 1.4, 0.2, 1\\r\\n7, 3.2, 4.7, 1.4, 0\\r\\n6.4, 3.2, 4.5, 1.5, 0\\r\\n6.9, 3.1, 4.9, 1.5, 0\\r\\n5.5, 2.3, 4, 1.3, 0\\r\\n6.5, 2.8, 4.6, 1.5, 0\\r\\n5.7, 2.8, 4.5, 1.3, 0\\r\\n6.3, 3.3, 4.7, 1.6, 0\\r\\n4.9, 2.4, 3.3, 1, 0\\r\\n6.6, 2.9, 4.6, 1.3, 0\\r\\n5.2, 2.7, 3.9, 1.4, 0\\r\\n5, 2, 3.5, 1, 0\\r\\n5.9, 3, 4.2, 1.5, 0\\r\\n6, 2.2, 4, 1, 0\\r\\n6.1, 2.9, 4.7, 1.4, 0\\r\\n5.6, 2.9, 3.6, 1.3, 0\\r\\n6.7, 3.1, 4.4, 1.4, 0\\r\\n5.6, 3, 4.5, 1.5, 0\\r\\n5.8, 2.7, 4.1, 1, 0\\r\\n6.2, 2.2, 4.5, 1.5, 0\\r\\n5.6, 2.5, 3.9, 1.1, 0\\r\\n5.9, 3.2, 4.8, 1.8, 0\\r\\n6.1, 2.8, 4, 1.3, 0\\r\\n6.3, 2.5, 4.9, 1.5, 0\\r\\n6.1, 2.8, 4.7, 1.2, 0\\r\\n6.4, 2.9, 4.3, 1.3, 0\\r\\n6.6, 3, 4.4, 1.4, 0\\r\\n6.8, 2.8, 4.8, 1.4, 0\\r\\n6.7, 3, 5, 1.7, 0\\r\\n6, 2.9, 4.5, 1.5, 0\\r\\n5.7, 2.6, 3.5, 1, 0\\r\\n5.5, 2.4, 3.8, 1.1, 0\\r\\n5.5, 2.4, 3.7, 1, 0\\r\\n5.8, 2.7, 3.9, 1.2, 0\\r\\n6, 2.7, 5.1, 1.6, 0\\r\\n5.4, 3, 4.5, 1.5, 0\\r\\n6, 3.4, 4.5, 1.6, 0\\r\\n6.7, 3.1, 4.7, 1.5, 0\\r\\n6.3, 2.3, 4.4, 1.3, 0\\r\\n5.6, 3, 4.1, 1.3, 0\\r\\n5.5, 2.5, 4, 1.3, 0\\r\\n5.5, 2.6, 4.4, 1.2, 0\\r\\n6.1, 3, 4.6, 1.4, 0\\r\\n5.8, 2.6, 4, 1.2, 0\\r\\n5, 2.3, 3.3, 1, 0\\r\\n5.6, 2.7, 4.2, 1.3, 0\\r\\n5.7, 3, 4.2, 1.2, 0\\r\\n5.7, 2.9, 4.2, 1.3, 0\\r\\n6.2, 2.9, 4.3, 1.3, 0\\r\\n5.1, 2.5, 3, 1.1, 0\\r\\n5.7, 2.8, 4.1, 1.3, 0\\r\\n6.3, 3.3, 6, 2.5, 2\\r\\n5.8, 2.7, 5.1, 1.9, 2\\r\\n7.1, 3, 5.9, 2.1, 2\\r\\n6.3, 2.9, 5.6, 1.8, 2\\r\\n6.5, 3, 5.8, 2.2, 2\\r\\n7.6, 3, 6.6, 2.1, 2\\r\\n4.9, 2.5, 4.5, 1.7, 2\\r\\n7.3, 2.9, 6.3, 1.8, 2\\r\\n6.7, 2.5, 5.8, 1.8, 2\\r\\n7.2, 3.6, 6.1, 2.5, 2\\r\\n6.5, 3.2, 5.1, 2, 2\\r\\n6.4, 2.7, 5.3, 1.9, 2\\r\\n6.8, 3, 5.5, 2.1, 2\\r\\n5.7, 2.5, 5, 2, 2\\r\\n5.8, 2.8, 5.1, 2.4, 2\\r\\n6.4, 3.2, 5.3, 2.3, 2\\r\\n6.5, 3, 5.5, 1.8, 2\\r\\n7.7, 3.8, 6.7, 2.2, 2\\r\\n7.7, 2.6, 6.9, 2.3, 2\\r\\n6, 2.2, 5, 1.5, 2\\r\\n6.9, 3.2, 5.7, 2.3, 2\\r\\n5.6, 2.8, 4.9, 2, 2\\r\\n7.7, 2.8, 6.7, 2, 2\\r\\n6.3, 2.7, 4.9, 1.8, 2\\r\\n6.7, 3.3, 5.7, 2.1, 2\\r\\n7.2, 3.2, 6, 1.8, 2\\r\\n6.2, 2.8, 4.8, 1.8, 2\\r\\n6.1, 3, 4.9, 1.8, 2\\r\\n6.4, 2.8, 5.6, 2.1, 2\\r\\n7.2, 3, 5.8, 1.6, 2\\r\\n7.4, 2.8, 6.1, 1.9, 2\\r\\n7.9, 3.8, 6.4, 2, 2\\r\\n6.4, 2.8, 5.6, 2.2, 2\\r\\n6.3, 2.8, 5.1, 1.5, 2\\r\\n6.1, 2.6, 5.6, 1.4, 2\\r\\n7.7, 3, 6.1, 2.3, 2\\r\\n6.3, 3.4, 5.6, 2.4, 2\\r\\n6.4, 3.1, 5.5, 1.8, 2\\r\\n6, 3, 4.8, 1.8, 2\\r\\n6.9, 3.1, 5.4, 2.1, 2\\r\\n6.7, 3.1, 5.6, 2.4, 2\\r\\n6.9, 3.1, 5.1, 2.3, 2\\r\\n5.8, 2.7, 5.1, 1.9, 2\\r\\n6.8, 3.2, 5.9, 2.3, 2\\r\\n6.7, 3.3, 5.7, 2.5, 2\\r\\n6.7, 3, 5.2, 2.3, 2\\r\\n6.3, 2.5, 5, 1.9, 2\\r\\n6.5, 3, 5.2, 2, 2\\r\\n6.2, 3.4, 5.4, 2.3, 2\\r\\n5.9, 3, 5.1, 1.8, 2\\r\\n'}"
            ]
          },
          "metadata": {},
          "execution_count": 6
        }
      ]
    },
    {
      "cell_type": "markdown",
      "metadata": {
        "id": "I8gmpfvKZmQM"
      },
      "source": [
        "## 2. Importar librerías necesarias\n",
        "Ahora vamos a instalar las librerías necesarias para dibujar la red gráficamente. Estas librerías no son imprescindibles, pero vamos a incorporarlas para utilizar una función de keras que nos permitirá ver de manera gráfica la red creada.\n",
        "\n",
        "Después cargaremos las librerías que sí son imprescindibles.\n",
        "\n"
      ]
    },
    {
      "cell_type": "code",
      "metadata": {
        "id": "3GpBKxJhZqP4",
        "colab": {
          "base_uri": "https://localhost:8080/"
        },
        "outputId": "10b0bf9d-0ff6-4653-8d1c-fabb32f77023"
      },
      "source": [
        "#Instalar librerias para dibujar la red gráficamente\n",
        "!pip install pydot\n",
        "!apt-get install graphviz\n",
        "\n",
        "#Cargar librerias necesarias\n",
        "import matplotlib.pyplot as plt\n",
        "import pandas as pd\n",
        "import numpy as np\n",
        "import tensorflow as tf\n",
        "from tensorflow.keras.models import Sequential\n",
        "from tensorflow.keras.layers import Dense\n",
        "from tensorflow.keras.utils import plot_model\n",
        "from tensorflow.keras.utils import to_categorical\n",
        "from tensorflow.keras.optimizers import SGD"
      ],
      "execution_count": null,
      "outputs": [
        {
          "output_type": "stream",
          "name": "stdout",
          "text": [
            "Looking in indexes: https://pypi.org/simple, https://us-python.pkg.dev/colab-wheels/public/simple/\n",
            "Requirement already satisfied: pydot in /usr/local/lib/python3.9/dist-packages (1.4.2)\n",
            "Requirement already satisfied: pyparsing>=2.1.4 in /usr/local/lib/python3.9/dist-packages (from pydot) (3.0.9)\n",
            "Reading package lists... Done\n",
            "Building dependency tree       \n",
            "Reading state information... Done\n",
            "graphviz is already the newest version (2.42.2-3build2).\n",
            "0 upgraded, 0 newly installed, 0 to remove and 24 not upgraded.\n"
          ]
        }
      ]
    },
    {
      "cell_type": "markdown",
      "metadata": {
        "id": "FNp7SsgaY3UV"
      },
      "source": [
        "## 3. Creación de la red y funciónes auxiliares\n",
        "\n",
        "En esta ocasión, vamos a organizar el código en funciones.\n",
        "\n",
        "La primera función es **plot_history**, que como sucedía en el problema de regresión, la utilizaremos para dibujar la gráfica en la que se ve la evolución del error durante ele entrenamiento.\n",
        "\n",
        "La segunda función se ocupa de i) crear la red, ii) seleccionar el optimizador e inicializar parámetros, y iii) realizar el aprendizaje mostrando gráficamente la evolución del error.\n",
        "\n",
        "Cabe destacar en este apartado que la capa de salida tiene tantas celdas como número de clases. Además, fíjate que en la capa de salida, la función de activación es la función **softmax**.\n",
        "\n",
        "Fíjate también en la función que se optimiza: **categorical_crossentropy**. Si consultas la ayuda, verás que es la función que se corresponde con la función de pérdida para los problemas multiclase.\n",
        "\n",
        "\n",
        "**Nota**: la creación de la red podría haberse sacado de esta función puesto que únicamente se necesita crear la primera vez. Sin embargo, para que los resultados sean reproducibles se necesita que los parámetros iniciales del modelo sean los mismos en cada ejecución. Podría haberse logrado usando varias funciones, pero hemos decidido sacrificar un poco la eficiencia en aras de aumetar la claridad.\n",
        "\n",
        "\n",
        ""
      ]
    },
    {
      "cell_type": "code",
      "metadata": {
        "id": "eqtgKKrQYx49"
      },
      "source": [
        "def plot_history(history, validation=False):\n",
        "    plt.figure()\n",
        "    plt.xlabel('Epoch')\n",
        "    plt.ylabel('categorical_crossentropy')\n",
        "    plt.plot(history.epoch, np.array(history.history['loss']),\n",
        "             label='Train Loss')\n",
        "    if validation:\n",
        "        plt.plot(history.epoch, np.array(history.history['val_loss']),\n",
        "                 label='Validation Loss')\n",
        "    plt.legend()\n",
        "    plt.ylim([0, max(history.history['loss'])])\n",
        "\n",
        "\n",
        "def entrena(X, Y, learning_rate=0.001, batch_size=32, epochs=1000, validation_data=None):\n",
        "    \"\"\"Función que crea la red, define el modelo y entrena\"\"\"\n",
        "\n",
        "    \"\"\" SE CREA LA RED \"\"\"\n",
        "    # Fijar semillas de números aleatorios\n",
        "    np.random.seed(100)\n",
        "    tf.keras.utils.set_random_seed(100)\n",
        "\n",
        "    n_input = 4  # Celdas en la capa de entrada (features)\n",
        "    n_hidden1 = 12  # Celdas en la primera capa oculta\n",
        "    n_hidden2 = 10  # Celdas en la segunda capa oculta\n",
        "    n_hidden3 = 8  # Celdas en la tercera capa oculta\n",
        "    n_clases = 3  # Celdas en la capa de salida\n",
        "\n",
        "    # Definir las capas del modelo\n",
        "    model = Sequential()\n",
        "    model.add(Dense(n_hidden1, input_dim=n_input, activation='relu', name=\"hidden1_layer\"))\n",
        "    model.add(Dense(n_hidden2, activation='relu', name=\"hidden2_layer\"))\n",
        "    model.add(Dense(n_hidden3, activation='relu', name=\"hidden3_layer\"))\n",
        "    model.add(Dense(n_clases, activation='softmax', name=\"output_layer\"))\n",
        "\n",
        "    # Como se puede ver, se crea un modelo secuencial donde cada capa añadida\n",
        "    # recibe como entrada la salida de la anterior.\n",
        "    # La dimensión de la entrada siempre se define en la primera capa del modelo\n",
        "    # (parámetro input_dim) => model.add(Dense(n_hidden1, input_dim=n_input, name=\"hidden1_layer\"))\n",
        "\n",
        "    # Existe también una forma \"funcional\" de crear modelos. En este caso sería:\n",
        "    # in_layer = Input(shape =(n_input,))\n",
        "    # hidden1_layer = Dense(n_hidden1, name=\"hidden1_layer\",activation='relu')(in_layer)\n",
        "    # hidden2_layer = Dense(n_hidden2, name=\"hidden2_layer\",activation='relu')(hidden1_layer)\n",
        "    # hidden3_layer = Dense(n_hidden3, name=\"hidden3_layer\",activation='relu')(hidden2_layer)\n",
        "    # out_layer = Dense(n_output, name=\"out_layer\")(hidden3_layer)\n",
        "    #\n",
        "    # model = Model(inputs = [in_layer], outputs = [out_layer])\n",
        "\n",
        "    \"\"\" SELECCIONAR OPTIMIZADOR E INICIALIZAR PARÁMETROS \"\"\"\n",
        "    # Definir el optimizador a utilizar (SGD, descenso del gradiente estocástico)\n",
        "    sgd = SGD(learning_rate=learning_rate)\n",
        "\n",
        "    # Compilar el modelo indicando la función de pérdida (loss) y el optimizador\n",
        "    model.compile(loss='categorical_crossentropy', optimizer=sgd)\n",
        "\n",
        "    \"\"\" SE VISUALIZA EL MODELO \"\"\"\n",
        "    # Imprimir en modo texto finalmente el resumen/arquitectura de nuestro modelo\n",
        "    # Esta información permite conocer el número de parámetros que se han de aprender\n",
        "    model.summary()\n",
        "\n",
        "    # Obtener un fichero con la representación gráfica del modelo\n",
        "    plot_model(model, to_file='model.png')\n",
        "    # Después de ejecutar esta línea se genera el fichero 'model.png'. Para poder\n",
        "    # verlo, tienes que ir a la parte izquierda, acceder a la pestaña 'Archivos' y\n",
        "    # 'actualizar', aparecerá entonces el archivo y podrás verlo (doble click sobre\n",
        "    # el fichero 'model.png' o click con el botón derecho para descargarlo)\n",
        "\n",
        "    \"\"\" SE ENTRENA \"\"\"\n",
        "    # Entrenar el modelo a partir de los ejemplos de TRAIN creados en el punto 2\n",
        "    history = model.fit(X, Y, verbose=0, batch_size=batch_size, epochs=epochs,\n",
        "                        validation_data=validation_data)\n",
        "    traza_train = np.array(history.history['loss'])\n",
        "    print(\"-- Mínimo error TRAIN: {:.6f}\".format(min(traza_train)))\n",
        "    print(\"      Media 10 últimas epochs: ** {:.6f} **\".format(np.mean(traza_train[-10:])))\n",
        "    print(\"      Desv. 10 últimas epochs: {:.6f}\".format(np.std(traza_train[-10:])))\n",
        "    if validation_data is not None:\n",
        "      traza_val = np.array(history.history['val_loss'])\n",
        "      print(\"-- Mínimo error VALIDACION: {:.6f}\".format(min(traza_val)))\n",
        "      print(\"      Media 10 últimas epochs: ** {:.6f} **\".format(np.mean(traza_val[-10:])))\n",
        "      print(\"      Desv. 10 últimas epochs: {:.6f}\".format(np.std(traza_val[-10:])))\n",
        "    plot_history(history, validation=(validation_data is not None))"
      ],
      "execution_count": null,
      "outputs": []
    },
    {
      "cell_type": "markdown",
      "metadata": {
        "id": "DNJsP89caKmY"
      },
      "source": [
        "## 4. Cargar el conjunto\n",
        "\n",
        "El conjunto está en el fichero **iris.data.txt**. Contiene datos de 150 lirios pertenecientes a 3 clases diferentes. Cada lirio viene descrito por cuatro atributos.\n",
        "\n",
        "Lo primero que hacemos es cargar el conjuto en un dataframe de pandas y barajar los ejemplos.\n",
        "\n",
        "Después almacenamos en una matriz (laX) la descripción de los lirios y en un vector (laY) la clase de los mismos.\n",
        "\n",
        "La clase, tal y como nos viene en el conjunto de datos, no puede ser utilizada directamente en la red. Necesitamos su codificación **one_hot**. Para obtenerla, vamos a utilizar una función de keras que se llama **to_categorical** y que crea una columna para cada clase empezando siempre en el 0. Consulta la ayuda para entender cómo funciona.\n"
      ]
    },
    {
      "cell_type": "code",
      "metadata": {
        "id": "R9tXs9SBfnr_",
        "colab": {
          "base_uri": "https://localhost:8080/"
        },
        "outputId": "4f92f7ea-c46d-451e-9e60-61469fba6f9e"
      },
      "source": [
        "# Se carga el conjunto de datos de los lirios. Cada lirio está descrito\n",
        "# mediante 4 atributos y viene acompañado de su clase.\n",
        "# Fíjate que la clase está en la última columna y solo puede ser 0, 1 o 2.\n",
        "df = pd.read_csv('iris.data.txt',\n",
        "                 names=['Sepal_length', 'Sepal_width', 'Petal_length',\n",
        "                        'Petal_width', 'clase'],\n",
        "                 dtype=np.float32)\n",
        "\n",
        "# Se barajan los ejemplos\n",
        "df = df.sample(frac=1, random_state=100).reset_index(drop=True)\n",
        "\n",
        "# La descripción de los lirios se almacena en 'laX' y la clase en 'laY'\n",
        "laX = df.iloc[:, :-1]  # todas las columnas salvo las última\n",
        "laY = df.iloc[:, -1:]  # la última columa es la clase\n",
        "\n",
        "# Es necesario utilizar la codificación one-hot para codificar la clase.\n",
        "# Esta codificación podemos obtenerla usando la función 'to_categorical' de\n",
        "# 'keras.utils'. Consulta la ayuda para entender cómo funciona\n",
        "laY_one_hot = to_categorical(laY)\n",
        "print(laX)\n",
        "print(laY_one_hot)\n"
      ],
      "execution_count": null,
      "outputs": [
        {
          "output_type": "stream",
          "name": "stdout",
          "text": [
            "     Sepal_length  Sepal_width  Petal_length  Petal_width\n",
            "0             6.4          2.8           5.6          2.1\n",
            "1             4.8          3.4           1.6          0.2\n",
            "2             7.7          2.6           6.9          2.3\n",
            "3             5.7          4.4           1.5          0.4\n",
            "4             6.3          2.7           4.9          1.8\n",
            "..            ...          ...           ...          ...\n",
            "145           6.3          2.3           4.4          1.3\n",
            "146           6.3          2.9           5.6          1.8\n",
            "147           5.8          2.7           4.1          1.0\n",
            "148           4.8          3.4           1.9          0.2\n",
            "149           4.4          2.9           1.4          0.2\n",
            "\n",
            "[150 rows x 4 columns]\n",
            "[[0. 0. 1.]\n",
            " [0. 1. 0.]\n",
            " [0. 0. 1.]\n",
            " [0. 1. 0.]\n",
            " [0. 0. 1.]\n",
            " [0. 0. 1.]\n",
            " [0. 1. 0.]\n",
            " [0. 1. 0.]\n",
            " [0. 0. 1.]\n",
            " [0. 1. 0.]\n",
            " [0. 1. 0.]\n",
            " [0. 0. 1.]\n",
            " [0. 1. 0.]\n",
            " [0. 1. 0.]\n",
            " [0. 0. 1.]\n",
            " [1. 0. 0.]\n",
            " [1. 0. 0.]\n",
            " [1. 0. 0.]\n",
            " [0. 0. 1.]\n",
            " [0. 0. 1.]\n",
            " [0. 0. 1.]\n",
            " [0. 1. 0.]\n",
            " [0. 0. 1.]\n",
            " [0. 1. 0.]\n",
            " [1. 0. 0.]\n",
            " [0. 0. 1.]\n",
            " [1. 0. 0.]\n",
            " [0. 1. 0.]\n",
            " [1. 0. 0.]\n",
            " [0. 0. 1.]\n",
            " [1. 0. 0.]\n",
            " [1. 0. 0.]\n",
            " [0. 0. 1.]\n",
            " [0. 1. 0.]\n",
            " [0. 1. 0.]\n",
            " [1. 0. 0.]\n",
            " [0. 1. 0.]\n",
            " [1. 0. 0.]\n",
            " [0. 0. 1.]\n",
            " [0. 0. 1.]\n",
            " [0. 1. 0.]\n",
            " [1. 0. 0.]\n",
            " [0. 0. 1.]\n",
            " [0. 0. 1.]\n",
            " [0. 1. 0.]\n",
            " [0. 1. 0.]\n",
            " [0. 1. 0.]\n",
            " [0. 1. 0.]\n",
            " [1. 0. 0.]\n",
            " [0. 1. 0.]\n",
            " [0. 1. 0.]\n",
            " [0. 1. 0.]\n",
            " [1. 0. 0.]\n",
            " [0. 0. 1.]\n",
            " [0. 0. 1.]\n",
            " [1. 0. 0.]\n",
            " [0. 0. 1.]\n",
            " [1. 0. 0.]\n",
            " [0. 0. 1.]\n",
            " [0. 0. 1.]\n",
            " [1. 0. 0.]\n",
            " [0. 1. 0.]\n",
            " [0. 0. 1.]\n",
            " [0. 0. 1.]\n",
            " [0. 0. 1.]\n",
            " [0. 1. 0.]\n",
            " [0. 1. 0.]\n",
            " [0. 0. 1.]\n",
            " [0. 1. 0.]\n",
            " [0. 1. 0.]\n",
            " [0. 1. 0.]\n",
            " [1. 0. 0.]\n",
            " [0. 0. 1.]\n",
            " [0. 0. 1.]\n",
            " [0. 0. 1.]\n",
            " [0. 1. 0.]\n",
            " [1. 0. 0.]\n",
            " [1. 0. 0.]\n",
            " [0. 1. 0.]\n",
            " [1. 0. 0.]\n",
            " [1. 0. 0.]\n",
            " [0. 0. 1.]\n",
            " [0. 1. 0.]\n",
            " [1. 0. 0.]\n",
            " [1. 0. 0.]\n",
            " [1. 0. 0.]\n",
            " [1. 0. 0.]\n",
            " [1. 0. 0.]\n",
            " [1. 0. 0.]\n",
            " [0. 0. 1.]\n",
            " [0. 0. 1.]\n",
            " [0. 1. 0.]\n",
            " [1. 0. 0.]\n",
            " [0. 1. 0.]\n",
            " [1. 0. 0.]\n",
            " [0. 0. 1.]\n",
            " [0. 0. 1.]\n",
            " [0. 0. 1.]\n",
            " [1. 0. 0.]\n",
            " [0. 1. 0.]\n",
            " [0. 1. 0.]\n",
            " [0. 1. 0.]\n",
            " [0. 1. 0.]\n",
            " [0. 0. 1.]\n",
            " [0. 1. 0.]\n",
            " [0. 1. 0.]\n",
            " [1. 0. 0.]\n",
            " [0. 1. 0.]\n",
            " [0. 0. 1.]\n",
            " [1. 0. 0.]\n",
            " [0. 0. 1.]\n",
            " [0. 1. 0.]\n",
            " [0. 0. 1.]\n",
            " [0. 0. 1.]\n",
            " [0. 1. 0.]\n",
            " [1. 0. 0.]\n",
            " [1. 0. 0.]\n",
            " [1. 0. 0.]\n",
            " [0. 0. 1.]\n",
            " [1. 0. 0.]\n",
            " [1. 0. 0.]\n",
            " [0. 1. 0.]\n",
            " [0. 1. 0.]\n",
            " [0. 1. 0.]\n",
            " [0. 0. 1.]\n",
            " [1. 0. 0.]\n",
            " [1. 0. 0.]\n",
            " [0. 1. 0.]\n",
            " [0. 0. 1.]\n",
            " [0. 0. 1.]\n",
            " [0. 0. 1.]\n",
            " [1. 0. 0.]\n",
            " [1. 0. 0.]\n",
            " [1. 0. 0.]\n",
            " [1. 0. 0.]\n",
            " [0. 0. 1.]\n",
            " [0. 0. 1.]\n",
            " [0. 1. 0.]\n",
            " [0. 1. 0.]\n",
            " [1. 0. 0.]\n",
            " [1. 0. 0.]\n",
            " [1. 0. 0.]\n",
            " [1. 0. 0.]\n",
            " [0. 0. 1.]\n",
            " [1. 0. 0.]\n",
            " [1. 0. 0.]\n",
            " [0. 0. 1.]\n",
            " [1. 0. 0.]\n",
            " [0. 1. 0.]\n",
            " [0. 1. 0.]]\n"
          ]
        }
      ]
    },
    {
      "cell_type": "markdown",
      "metadata": {
        "id": "DdF03maw6_rE"
      },
      "source": [
        "## 4. Entrenar el modelo\n",
        "Una vez que  hemos definido cómo va a ser nuestro modelo y que tenemos el conjunto de datos preparado, vamos a entrenarlo para buscar los parámetros que hagan mínima la función de pérdida.\n",
        "\n",
        "Para ello vamos a llamar a la función **entrena** que definimos anteriormente. Necesita que le suministremos los ejemplos (laX, laY_one_hot), el learning rate, el tamaño del batch y el número de epochs.\n",
        "\n"
      ]
    },
    {
      "cell_type": "code",
      "metadata": {
        "id": "pVC1XJBg7Q1H",
        "colab": {
          "base_uri": "https://localhost:8080/",
          "height": 626
        },
        "outputId": "a5f9c14c-c5c7-4b32-aa58-2b15bc2b82cd"
      },
      "source": [
        "# se entrena\n",
        "learning_rate = 0.001  # learning rate\n",
        "tam_batch = 32   # Tamaño del batch\n",
        "n_epochs = 1000  # Número de epochs\n",
        "entrena(laX, laY_one_hot, learning_rate, tam_batch, n_epochs)"
      ],
      "execution_count": null,
      "outputs": [
        {
          "output_type": "stream",
          "name": "stdout",
          "text": [
            "Model: \"sequential_1\"\n",
            "_________________________________________________________________\n",
            " Layer (type)                Output Shape              Param #   \n",
            "=================================================================\n",
            " hidden1_layer (Dense)       (None, 6)                 30        \n",
            "                                                                 \n",
            " hidden2_layer (Dense)       (None, 5)                 35        \n",
            "                                                                 \n",
            " hidden3_layer (Dense)       (None, 4)                 24        \n",
            "                                                                 \n",
            " output_layer (Dense)        (None, 3)                 15        \n",
            "                                                                 \n",
            "=================================================================\n",
            "Total params: 104\n",
            "Trainable params: 104\n",
            "Non-trainable params: 0\n",
            "_________________________________________________________________\n",
            "-- Mínimo error TRAIN: 0.706723\n",
            "      Media 10 últimas epochs: ** 0.707819 **\n",
            "      Desv. 10 últimas epochs: 0.000607\n"
          ]
        },
        {
          "output_type": "display_data",
          "data": {
            "text/plain": [
              "<Figure size 432x288 with 1 Axes>"
            ],
            "image/png": "[encoded data removed]"
          },
          "metadata": {
            "needs_background": "light"
          }
        }
      ]
    },
    {
      "cell_type": "markdown",
      "metadata": {
        "id": "DhePAbE0VOCn"
      },
      "source": [
        "##5. Efecto del learning rate\n",
        "El resultado que se obtiene en esta ejecución no es muy bueno, ya que en la gráfica se ve que el error ha bajado un poco y luego se ha estancado en torno a 0.979.\n",
        "\n",
        "Esto puede deberse a que el ratio de aprendizaje (learning rate) es demasiado pequeño. Prueba a cambiarlo asignándole el valor 0.001 y vuelve a ejecutar la función. Ahora se ve que la curva está bajando y al alcanzar el número de epochs tiene un error en torno a 0.71. Viendo la forma de la gráfica se ve que todavía podría seguir bajando.\n",
        "\n",
        "Aumenta nuevamente el learning rate asignándole 0.01 y ejecuta. La curva ahora baja más rápidamente y llegado un punto comienza a oscilar, pero finaliza con una loss mejor.\n",
        "\n",
        "Si seguimos aumentando el learning rate (0.05)  vemos que baja rápidamente y que hay muchas oscilaciones.\n",
        "\n",
        "Si probamos con learning rate 0.1, vemos que el algoritmo no es capaz de alcanzar una buena solución.\n",
        "\n",
        "Durante el entrenamiento de una red, hay que tener especial cuidado con el valor del learning rate. Será necesario buscar el valor que más se adecúe a nuestro problema y nuestra red.\n",
        "\n",
        "Sin embargo, que el uso de un learning rate haga que se obtengan mejores o peores resultados, depende también de otros factores, como por ejemplo el número de epochs. Si utilizamos un número de epochs más grande, le daremos más tiempo al algoritmo y, tal vez, valores de learnig rate más bajos vayan haciendo mínimo el error de una manera más lenta y segura.\n",
        "\n",
        "##6. El tamaño del batch\n",
        "\n",
        "La evolución del modelo durante el aprendizaje también depende del tamaño del batch. Tamaños de batch más pequeños aceleran el aprendizaje, ya que un tamaño pequeño implica que se harán más actualizaciones en cada epoch. Sin embargo, tamaños de batch demasiado pequeños pueden provocar inestabilidad en el aprendizaje cuando nos enfrentamos a problemas con mucho ruido.\n",
        "\n",
        "Por ejemplo, con un tamaño de batch 32 y 1000 epochs, sabiendo que tenemos 150 ejemplos, se están haciendo `ceil(150/32)x1000=5000` actualizaciones de los parámetros. Si pruebas esta configuración con un learning rate de 0.001 deberías obtener un resultado en torno a 0.71.\n",
        "\n",
        "Si bajas el tamaño del batch a 16, se harán `ceil(150/16)x1000=10000` actualizaciones de los parámetros y el error bajará más rápido (0.59).\n",
        "\n",
        "Si bajas el tamaño del batch a 8, se harán `ceil(150/8)x1000=19000` actualizaciones de los parámetros y el error bajará aún más (0.38).\n",
        "\n",
        "Si pruebas con batch 2, se harán `ceil(150/2)x1000=75000` actualizaciones de los parámetros y el error bajará hasta (0.06).\n",
        "\n",
        "\n",
        "##7. Entrenamiento y validación\n",
        "Todas las curvas que hemos visto se corresponden con la evolución del error en el conjunto de entrenamiento. Fijándonos sólo en estas curvas corremos el riesgo de caer en el **sobreajuste**. Así que vamos a separar unos pocos ejemplos como conjunto de validación y así podremos ver la evolución del modelo ante casos no vistos.\n",
        "\n",
        "Psrs ello vamos a utilizar la función *train_test_split* de la librería *sklearn*. Tal y como está llamada la función en el siguiente trozo de código, se reservará un 10% de ejemplos para el conjunto de validación. El parámetro *stratify* garantiza que se mantenga en el conjunto de validación la misma distribución que en el conjunto de entrenamiento.\n",
        "\n"
      ]
    },
    {
      "cell_type": "code",
      "metadata": {
        "id": "TqC_WtJe8Tnp",
        "colab": {
          "base_uri": "https://localhost:8080/"
        },
        "outputId": "77e11bc5-a916-447c-fa58-0486f9353510"
      },
      "source": [
        "# Separar en entrenamiento y validación\n",
        "from sklearn.model_selection import train_test_split\n",
        "x_train, x_val, yoh_train, yoh_val = train_test_split(laX, laY_one_hot,\n",
        "                                                      test_size=0.1, stratify=laY)\n",
        "\n",
        "print(x_train.shape)\n",
        "print(yoh_train.shape)\n",
        "print(x_val.shape)\n",
        "print(yoh_val.shape)"
      ],
      "execution_count": null,
      "outputs": [
        {
          "output_type": "stream",
          "name": "stdout",
          "text": [
            "(135, 4)\n",
            "(135, 3)\n",
            "(15, 4)\n",
            "(15, 3)\n"
          ]
        }
      ]
    },
    {
      "cell_type": "markdown",
      "metadata": {
        "id": "H883JxuBD_L1"
      },
      "source": [
        "Vemos que los 150 lirios disponibles se han separado en 135 para entrenar y 15 para validar. Vamos ahora a ver las dos curvas a la vez repitiendo las ejecuciones del apartado **5. Efecto del learning rate**.\n",
        "\n",
        "Verás que para algunos learning rates las dos curvas van de la mano, sin embargo, cuando somos muy agresivos, el modelo se ajusta bien al conjunto de entrenamiento y el resultado en la validación es muy oscilante. Estamos, en tal caso, ante un modelo poco fiable (o ante un mal conjunto de validación).\n",
        "\n",
        "Ejecútalo ahora con `learning_rate=0.001`, `tam_batch=16` y `n_epochs=6000`. Tardará un poco más en aparecer la gráfica.\n",
        "\n",
        "Esto es aceptable si la diferencia es pequeña. Si la diferencia es grande puede deberse a que tenemos un conjunto de validación que no representa bien los casos nos vistos (porque sea pequeño, por ejemplo) o a que nos estamos sobreajustando. Vemos que a partir de cierto momento, aunque el error en entrenamiento sigue bajando, el error en validación deja de bajar y se vuelve muy inestable."
      ]
    },
    {
      "cell_type": "code",
      "metadata": {
        "id": "b4O_VAqnEnuM",
        "colab": {
          "base_uri": "https://localhost:8080/",
          "height": 454
        },
        "outputId": "9ed922f2-a0d1-4adb-fdb8-01b899e895c3"
      },
      "source": [
        "learning_rate = 0.001  # learning rate\n",
        "tam_batch = 16   # Tamaño del batch\n",
        "n_epochs = 6000  # Número de epochs\n",
        "\n",
        "entrena(x_train, yoh_train, learning_rate, tam_batch, n_epochs, validation_data=(x_val, yoh_val))"
      ],
      "execution_count": null,
      "outputs": [
        {
          "output_type": "stream",
          "name": "stdout",
          "text": [
            "Model: \"sequential_2\"\n",
            "_________________________________________________________________\n",
            " Layer (type)                Output Shape              Param #   \n",
            "=================================================================\n",
            " hidden1_layer (Dense)       (None, 6)                 30        \n",
            "                                                                 \n",
            " hidden2_layer (Dense)       (None, 5)                 35        \n",
            "                                                                 \n",
            " hidden3_layer (Dense)       (None, 4)                 24        \n",
            "                                                                 \n",
            " output_layer (Dense)        (None, 3)                 15        \n",
            "                                                                 \n",
            "=================================================================\n",
            "Total params: 104\n",
            "Trainable params: 104\n",
            "Non-trainable params: 0\n",
            "_________________________________________________________________\n",
            "-- Mínimo error TRAIN: 0.076517\n",
            "      Media 10 últimas epochs: ** 0.079116 **\n",
            "      Desv. 10 últimas epochs: 0.001716\n",
            "-- Mínimo error VALIDACION: 0.085038\n",
            "      Media 10 últimas epochs: ** 0.086291 **\n",
            "      Desv. 10 últimas epochs: 0.001485\n"
          ]
        },
        {
          "output_type": "display_data",
          "data": {
            "text/plain": [
              "<Figure size 640x480 with 1 Axes>"
            ],
            "image/png": "[encoded data removed]"
          },
          "metadata": {}
        }
      ]
    },
    {
      "cell_type": "markdown",
      "metadata": {
        "id": "XPlyIv2sItDw"
      },
      "source": [
        "El conjunto de los lirios se resuelve mediante relaciones que no son muy complicadas, por eso, utilizar muchas capas ocultas y muchas celdas en estas capas puede llevarnos a sobreajustarnos.\n",
        "\n",
        "Puedes probar a añadir capas (o quitarlas) al modelo y ver qué efecto tiene en el aprendizaje."
      ]
    }
  ]
}