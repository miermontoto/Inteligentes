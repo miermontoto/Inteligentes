{
  "nbformat": 4,
  "nbformat_minor": 0,
  "metadata": {
    "colab": {
      "provenance": [],
      "toc_visible": true
    },
    "kernelspec": {
      "name": "python3",
      "display_name": "Python 3"
    },
    "language_info": {
      "name": "python"
    },
    "accelerator": "GPU",
    "gpuClass": "standard"
  },
  "cells": [
    {
      "cell_type": "markdown",
      "source": [
        "# **Datos personales**"
      ],
      "metadata": {
        "id": "7MNporBoXzwN"
      }
    },
    {
      "cell_type": "code",
      "source": [
        "from google.colab import files\n",
        "import matplotlib.pyplot as plt\n",
        "import tensorflow as tf\n",
        "\n",
        "#@title  { run: \"auto\", display-mode: \"form\" }\n",
        "Nombre = \"Juan Francisco\" #@param {type:\"string\"}\n",
        "Apellidos = \"Mier Montoto\" #@param {type:\"string\"}\n",
        "DNI = \"71777658V\" #@param {type:\"string\"}\n",
        "UO = 283319 #@param {type:\"integer\"}\n",
        "\n",
        "if UO is not None:\n",
        "  seed = UO\n",
        "  model_name = f\"uo{UO}_model.h5\"\n",
        "\n",
        "  !wget -nc https://raw.githubusercontent.com/pablo-pnunez/datasets/master/winequality_train.csv &> /dev/null\n",
        "  !mv winequality_train.csv winequality.csv"
      ],
      "metadata": {
        "id": "-uCRUUfwVz_Q"
      },
      "execution_count": null,
      "outputs": []
    },
    {
      "cell_type": "markdown",
      "source": [
        "# **Parte 1:** Carga y preprocesamiento de datos"
      ],
      "metadata": {
        "id": "yvG-NgerS2vT"
      }
    },
    {
      "cell_type": "code",
      "source": [
        "# Importa aquí las librerías necesarias para esta parte\n",
        "import pandas as pd\n",
        "import sklearn as sk\n",
        "import tensorflow as tf\n",
        "from sklearn.model_selection import train_test_split\n",
        "from tensorflow.keras.utils import to_categorical"
      ],
      "metadata": {
        "id": "-LOdomKFgmmq"
      },
      "execution_count": null,
      "outputs": []
    },
    {
      "cell_type": "markdown",
      "source": [
        "### Ejercicio 1"
      ],
      "metadata": {
        "id": "KOEOz0qJ6eOQ"
      }
    },
    {
      "cell_type": "code",
      "source": [
        "data = pd.read_csv('winequality.csv')"
      ],
      "metadata": {
        "id": "zG2Nw0eW6d8S"
      },
      "execution_count": null,
      "outputs": []
    },
    {
      "cell_type": "markdown",
      "source": [
        "### Ejercicio 2"
      ],
      "metadata": {
        "id": "AHopokWN6ncT"
      }
    },
    {
      "cell_type": "code",
      "source": [
        "print(f\"2a. Columnas del conjunto: {len(data.columns)}\")\n",
        "print(f\"2b. Ejemplos del conjunto: {len(data)}\")\n",
        "print(f\"2c. Ejemplos de vino blanco: {len(data.loc[data['type']==1])}\")\n",
        "print(f\"2d. ¿Valores nulos? {data.isnull().any().any()}\")"
      ],
      "metadata": {
        "id": "nf6gZKmJ6ncT",
        "colab": {
          "base_uri": "https://localhost:8080/"
        },
        "outputId": "9fa35570-f3e9-448d-bdda-76d74e5b1817"
      },
      "execution_count": null,
      "outputs": [
        {
          "output_type": "stream",
          "name": "stdout",
          "text": [
            "2a. Columnas del conjunto: 11\n",
            "2b. Ejemplos del conjunto: 5847\n",
            "2c. Ejemplos de vino blanco: 4408\n",
            "2d. ¿Valores nulos? False\n"
          ]
        }
      ]
    },
    {
      "cell_type": "markdown",
      "source": [
        "### Ejercicio 3"
      ],
      "metadata": {
        "id": "7txyECCa6pFS"
      }
    },
    {
      "cell_type": "code",
      "source": [
        "for i in data.columns:\n",
        "  col = data[i]\n",
        "  print(f\"Columna {i}: max={col.max()}, min={col.min()}, media={col.mean()}, desv={col.std()}\")"
      ],
      "metadata": {
        "id": "Z2vr-Irh6pFS",
        "colab": {
          "base_uri": "https://localhost:8080/"
        },
        "outputId": "83a46574-36a7-43be-952f-09af0c1985d3"
      },
      "execution_count": null,
      "outputs": [
        {
          "output_type": "stream",
          "name": "stdout",
          "text": [
            "Columna fixed acidity: max=15.9, min=3.9, media=7.219009748589021, desv=1.302218860009487\n",
            "Columna citric acid: max=1.66, min=0.0, media=0.3198238412861296, desv=0.1454433444030827\n",
            "Columna residual sugar: max=65.8, min=0.6, media=5.406439199589534, desv=4.738750747755788\n",
            "Columna chlorides: max=0.611, min=0.009, media=0.056120403625791, desv=0.03541791750761223\n",
            "Columna free sulfur dioxide: max=146.5, min=1.0, media=30.39114075594322, desv=17.430750827931828\n",
            "Columna density: max=1.03898, min=0.98711, media=0.9946777492731315, desv=0.003004462239916412\n",
            "Columna pH: max=4.01, min=2.72, media=3.2180793569351804, desv=0.16017530764337243\n",
            "Columna sulphates: max=2.0, min=0.22, media=0.5315392508978963, desv=0.1487915437560714\n",
            "Columna alcohol: max=14.9, min=8.0, media=10.497996693461035, desv=1.1938331822318584\n",
            "Columna quality: max=9, min=3, media=5.821959979476655, desv=0.8728289461572343\n",
            "Columna type: max=1, min=0, media=0.7538908842141269, desv=0.43077970791814446\n"
          ]
        }
      ]
    },
    {
      "cell_type": "markdown",
      "source": [
        "### Ejercicio 4"
      ],
      "metadata": {
        "id": "Y4TaKBcc64Pa"
      }
    },
    {
      "cell_type": "code",
      "source": [
        "for i in range(len(data.columns)):\n",
        "  col = data[data.columns[i]]\n",
        "  maxVal = col.max()\n",
        "  minVal = col.min()\n",
        "  for j in range(len(col)):\n",
        "    data.iloc[j, i] = (data.iloc[j, i]-minVal)/(maxVal-minVal)"
      ],
      "metadata": {
        "id": "G-CICCz264Pb"
      },
      "execution_count": null,
      "outputs": []
    },
    {
      "cell_type": "markdown",
      "source": [
        "### Ejercicio 6"
      ],
      "metadata": {
        "id": "Yrk1MW2X65yB"
      }
    },
    {
      "cell_type": "code",
      "source": [
        "data_train, data_val = train_test_split(data, test_size=0.1, stratify=data['type'])"
      ],
      "metadata": {
        "id": "HV6Kp5rL65yC"
      },
      "execution_count": null,
      "outputs": []
    },
    {
      "cell_type": "markdown",
      "source": [
        "### Ejercicio 7"
      ],
      "metadata": {
        "id": "GyB_gMX-68Iq"
      }
    },
    {
      "cell_type": "code",
      "source": [
        "def split(data):\n",
        "  x = data.iloc[:,:-1]\n",
        "  y = data.iloc[:,-1]\n",
        "  return x, y\n",
        "\n",
        "data_train_x, data_train_y = split(data_train)\n",
        "data_val_x, data_val_y = split(data_val)"
      ],
      "metadata": {
        "id": "A73FnPNV68Iq"
      },
      "execution_count": null,
      "outputs": []
    },
    {
      "cell_type": "markdown",
      "source": [
        "### Ejercicio 8"
      ],
      "metadata": {
        "id": "EhwwrKvS7Dxw"
      }
    },
    {
      "cell_type": "code",
      "source": [
        "data_train_y = to_categorical(data_train_y)\n",
        "data_val_y = to_categorical(data_val_y)"
      ],
      "metadata": {
        "id": "jAcEhtlG7Dxx",
        "colab": {
          "base_uri": "https://localhost:8080/"
        },
        "outputId": "e62e6f53-a09b-4250-a0bc-86e7f06034db"
      },
      "execution_count": null,
      "outputs": [
        {
          "output_type": "stream",
          "name": "stdout",
          "text": [
            "[[0. 1.]\n",
            " [0. 1.]\n",
            " [0. 1.]\n",
            " ...\n",
            " [1. 0.]\n",
            " [1. 0.]\n",
            " [1. 0.]]\n"
          ]
        }
      ]
    },
    {
      "cell_type": "markdown",
      "source": [
        "### Ejercicio 9"
      ],
      "metadata": {
        "id": "w8Z2Rwkh7FCp"
      }
    },
    {
      "cell_type": "code",
      "source": [
        "print(f\"9a. Ejemplos conjunto de entrenamiento: {len(data_train)}\")\n",
        "print(f\"9b. Ejemplos conjunto de validación: {len(data_val)}\")"
      ],
      "metadata": {
        "id": "Dj9wduQm7FCq",
        "colab": {
          "base_uri": "https://localhost:8080/"
        },
        "outputId": "365bf568-9ae9-4031-8c74-c7d8e0573047"
      },
      "execution_count": null,
      "outputs": [
        {
          "output_type": "stream",
          "name": "stdout",
          "text": [
            "9a. Ejemplos conjunto de entrenamiento: 5262\n",
            "9b. Ejemplos conjunto de validación: 585\n"
          ]
        }
      ]
    },
    {
      "cell_type": "markdown",
      "source": [
        "# **Parte 2:** Clasificación"
      ],
      "metadata": {
        "id": "c-Koqy_ZTMlc"
      }
    },
    {
      "cell_type": "code",
      "source": [
        "from tensorflow.keras.models import Sequential\n",
        "from tensorflow.keras.layers import Dense\n",
        "from tensorflow.keras.optimizers import SGD"
      ],
      "metadata": {
        "id": "QleXucSjisCf"
      },
      "execution_count": null,
      "outputs": []
    },
    {
      "cell_type": "markdown",
      "source": [
        "### Ejercicio 1"
      ],
      "metadata": {
        "id": "_tzSZVbO7fUv"
      }
    },
    {
      "cell_type": "code",
      "source": [
        "def create_model(learning_rate=None):\n",
        "  model = Sequential()\n",
        "  n_input = 10\n",
        "  n_output = 2\n",
        "  n_hidden1 = 6\n",
        "  n_hidden2 = 3\n",
        "  model.add(Dense(n_hidden1, input_dim=n_input, activation=\"relu\"))\n",
        "  model.add(Dense(n_hidden2, activation=\"sigmoid\"))\n",
        "  model.add(Dense(n_output, activation=\"softmax\"))\n",
        "  sgd = SGD(learning_rate=learning_rate)\n",
        "  model.compile(loss=\"categorical_crossentropy\", optimizer=sgd)\n",
        "  return model\n",
        "\n",
        "def plot_history(history):\n",
        "  # Este método se encarga de dibujar las gráficas de loss al final del entrenamiento\n",
        "  plt.figure()\n",
        "  plt.xlabel('Epoch')\n",
        "  plt.ylabel('categorical_crossentropy')\n",
        "  plt.plot(history.epoch, history.history['loss'], label='Train Loss')\n",
        "  plt.plot(history.epoch, history.history['val_loss'], label='Validation Loss')\n",
        "  plt.legend()\n",
        "  plt.ylim([0, max(history.history['loss'])])\n",
        "\n",
        "def run(learning_rate, batch_size, epochs, verbose=0):\n",
        "  model = create_model(learning_rate=learning_rate)\n",
        "  history = model.fit(data_train_x, data_train_y,  verbose=verbose, batch_size=batch_size, epochs=epochs, validation_data=(data_val_x, data_val_y))\n",
        "  plot_history(history)"
      ],
      "metadata": {
        "id": "3Ev88njeTTLb"
      },
      "execution_count": null,
      "outputs": []
    },
    {
      "cell_type": "markdown",
      "source": [
        "#### Primer entrenamiento"
      ],
      "metadata": {
        "id": "aHSjZ0Fo5ExM"
      }
    },
    {
      "cell_type": "code",
      "source": [
        "learning_rate = 0.001\n",
        "batch_size = 256\n",
        "epochs = 10\n",
        "\n",
        "run(learning_rate, batch_size, epochs, verbose=2)"
      ],
      "metadata": {
        "id": "IKfmRrNS5Oeh",
        "colab": {
          "base_uri": "https://localhost:8080/",
          "height": 806
        },
        "outputId": "0f9200c6-5ab7-4d18-9c17-a46ae18ccc20"
      },
      "execution_count": null,
      "outputs": [
        {
          "output_type": "stream",
          "name": "stdout",
          "text": [
            "Epoch 1/10\n",
            "21/21 - 1s - loss: 0.8839 - val_loss: 0.8777 - 691ms/epoch - 33ms/step\n",
            "Epoch 2/10\n",
            "21/21 - 0s - loss: 0.8721 - val_loss: 0.8662 - 78ms/epoch - 4ms/step\n",
            "Epoch 3/10\n",
            "21/21 - 0s - loss: 0.8608 - val_loss: 0.8551 - 89ms/epoch - 4ms/step\n",
            "Epoch 4/10\n",
            "21/21 - 0s - loss: 0.8499 - val_loss: 0.8444 - 90ms/epoch - 4ms/step\n",
            "Epoch 5/10\n",
            "21/21 - 0s - loss: 0.8394 - val_loss: 0.8341 - 90ms/epoch - 4ms/step\n",
            "Epoch 6/10\n",
            "21/21 - 0s - loss: 0.8293 - val_loss: 0.8241 - 91ms/epoch - 4ms/step\n",
            "Epoch 7/10\n",
            "21/21 - 0s - loss: 0.8195 - val_loss: 0.8146 - 107ms/epoch - 5ms/step\n",
            "Epoch 8/10\n",
            "21/21 - 0s - loss: 0.8101 - val_loss: 0.8053 - 79ms/epoch - 4ms/step\n",
            "Epoch 9/10\n",
            "21/21 - 0s - loss: 0.8010 - val_loss: 0.7964 - 118ms/epoch - 6ms/step\n",
            "Epoch 10/10\n",
            "21/21 - 0s - loss: 0.7922 - val_loss: 0.7878 - 134ms/epoch - 6ms/step\n"
          ]
        },
        {
          "output_type": "display_data",
          "data": {
            "text/plain": [
              "<Figure size 640x480 with 1 Axes>"
            ],
            "image/png": "[encoded data removed]"
          },
          "metadata": {}
        }
      ]
    },
    {
      "cell_type": "markdown",
      "source": [
        "### Ejercicio 2"
      ],
      "metadata": {
        "id": "0vVL1WKH94-E"
      }
    },
    {
      "cell_type": "code",
      "source": [
        "learning_rate = 0.01\n",
        "batch_size = 256\n",
        "epochs = 10\n",
        "\n",
        "run(learning_rate, batch_size, epochs)"
      ],
      "metadata": {
        "id": "7q3TO13u8AAB",
        "colab": {
          "base_uri": "https://localhost:8080/",
          "height": 806
        },
        "outputId": "257db3a3-c93a-4d54-826f-3964e9af6ed5"
      },
      "execution_count": null,
      "outputs": [
        {
          "output_type": "stream",
          "name": "stdout",
          "text": [
            "Epoch 1/10\n",
            "21/21 - 1s - loss: 0.5916 - val_loss: 0.5882 - 1s/epoch - 57ms/step\n",
            "Epoch 2/10\n",
            "21/21 - 0s - loss: 0.5832 - val_loss: 0.5807 - 85ms/epoch - 4ms/step\n",
            "Epoch 3/10\n",
            "21/21 - 0s - loss: 0.5768 - val_loss: 0.5751 - 98ms/epoch - 5ms/step\n",
            "Epoch 4/10\n",
            "21/21 - 0s - loss: 0.5720 - val_loss: 0.5710 - 79ms/epoch - 4ms/step\n",
            "Epoch 5/10\n",
            "21/21 - 0s - loss: 0.5685 - val_loss: 0.5679 - 89ms/epoch - 4ms/step\n",
            "Epoch 6/10\n",
            "21/21 - 0s - loss: 0.5659 - val_loss: 0.5656 - 82ms/epoch - 4ms/step\n",
            "Epoch 7/10\n",
            "21/21 - 0s - loss: 0.5640 - val_loss: 0.5639 - 85ms/epoch - 4ms/step\n",
            "Epoch 8/10\n",
            "21/21 - 0s - loss: 0.5626 - val_loss: 0.5625 - 99ms/epoch - 5ms/step\n",
            "Epoch 9/10\n",
            "21/21 - 0s - loss: 0.5615 - val_loss: 0.5615 - 80ms/epoch - 4ms/step\n",
            "Epoch 10/10\n",
            "21/21 - 0s - loss: 0.5606 - val_loss: 0.5607 - 81ms/epoch - 4ms/step\n"
          ]
        },
        {
          "output_type": "display_data",
          "data": {
            "text/plain": [
              "<Figure size 640x480 with 1 Axes>"
            ],
            "image/png": "[encoded data removed]"
          },
          "metadata": {}
        }
      ]
    },
    {
      "cell_type": "markdown",
      "source": [
        "### Ejercicio 3"
      ],
      "metadata": {
        "id": "KFpPSR_w8AAB"
      }
    },
    {
      "cell_type": "code",
      "source": [
        "learning_rate = 0.01\n",
        "batch_size = 256\n",
        "epochs = 1000\n",
        "\n",
        "run(learning_rate, batch_size, epochs)"
      ],
      "metadata": {
        "id": "ZKBuEJCc8AAC",
        "colab": {
          "base_uri": "https://localhost:8080/",
          "height": 452
        },
        "outputId": "97878748-0894-44c6-fb65-90c9e0d740d2"
      },
      "execution_count": null,
      "outputs": [
        {
          "output_type": "display_data",
          "data": {
            "text/plain": [
              "<Figure size 640x480 with 1 Axes>"
            ],
            "image/png": "[encoded data removed]"
          },
          "metadata": {}
        }
      ]
    },
    {
      "cell_type": "markdown",
      "source": [
        "### Ejercicio 4"
      ],
      "metadata": {
        "id": "dB0LOkIV8AAC"
      }
    },
    {
      "cell_type": "code",
      "source": [
        "learning_rate = 0.01\n",
        "batch_size = 64\n",
        "epochs = 1000\n",
        "\n",
        "run(learning_rate, batch_size, epochs)"
      ],
      "metadata": {
        "id": "1R4gyM2x8AAC",
        "colab": {
          "base_uri": "https://localhost:8080/",
          "height": 449
        },
        "outputId": "eee10bc6-21d4-4a26-ffe3-d25bf1891077"
      },
      "execution_count": null,
      "outputs": [
        {
          "output_type": "display_data",
          "data": {
            "text/plain": [
              "<Figure size 640x480 with 1 Axes>"
            ],
            "image/png": "[encoded data removed]"
          },
          "metadata": {}
        }
      ]
    },
    {
      "cell_type": "markdown",
      "source": [
        "### Ejercicio 5"
      ],
      "metadata": {
        "id": "nmjOlI3I8BTv"
      }
    },
    {
      "cell_type": "code",
      "source": [
        "learning_rate = 0.02\n",
        "batch_size = 32\n",
        "epochs = 800\n",
        "\n",
        "run(learning_rate, batch_size, epochs)"
      ],
      "metadata": {
        "id": "CDQ9ekwB8BTw",
        "colab": {
          "base_uri": "https://localhost:8080/",
          "height": 449
        },
        "outputId": "96c5ee4a-03c2-41c2-9312-e54d5123c6c3"
      },
      "execution_count": null,
      "outputs": [
        {
          "output_type": "display_data",
          "data": {
            "text/plain": [
              "<Figure size 640x480 with 1 Axes>"
            ],
            "image/png": "[encoded data removed]"
          },
          "metadata": {}
        }
      ]
    },
    {
      "cell_type": "markdown",
      "source": [
        "\n",
        "# **Anexo 1:** Ayuda librerías"
      ],
      "metadata": {
        "id": "C0T4J4lLS3V2"
      }
    },
    {
      "cell_type": "markdown",
      "source": [
        "## Pandas"
      ],
      "metadata": {
        "id": "KGACF7PxTUV9"
      }
    },
    {
      "cell_type": "markdown",
      "source": [
        "#### Importar librería"
      ],
      "metadata": {
        "id": "TKymj05B2SpE"
      }
    },
    {
      "cell_type": "code",
      "source": [
        "import pandas"
      ],
      "metadata": {
        "id": "CItd8Sbe14mN"
      },
      "execution_count": null,
      "outputs": []
    },
    {
      "cell_type": "markdown",
      "source": [
        "#### Crear un dataframe a partir de un fichero"
      ],
      "metadata": {
        "id": "fnBq8ImL2W-b"
      }
    },
    {
      "cell_type": "code",
      "source": [
        "# Ejemplos\n",
        "dataset = pandas.read_excel(\"path_to_filename.xlsx\")\n",
        "dataset = pandas.read_csv(\"path_to_filename.csv\")\n",
        "dataset = pandas.read_pickle(\"path_to_filename.pkl\")"
      ],
      "metadata": {
        "id": "f_Cl-MFT2DLC",
        "colab": {
          "base_uri": "https://localhost:8080/",
          "height": 372
        },
        "outputId": "d81d08eb-811e-4e27-acdc-275b7012820b"
      },
      "execution_count": null,
      "outputs": [
        {
          "output_type": "error",
          "ename": "FileNotFoundError",
          "evalue": "ignored",
          "traceback": [
            "\u001b[0;31m---------------------------------------------------------------------------\u001b[0m",
            "\u001b[0;31mFileNotFoundError\u001b[0m                         Traceback (most recent call last)",
            "\u001b[0;32m<ipython-input-19-00e09adb3b7a>\u001b[0m in \u001b[0;36m<cell line: 2>\u001b[0;34m()\u001b[0m\n\u001b[1;32m      1\u001b[0m \u001b[0;31m# Ejemplos\u001b[0m\u001b[0;34m\u001b[0m\u001b[0;34m\u001b[0m\u001b[0m\n\u001b[0;32m----> 2\u001b[0;31m \u001b[0mdataset\u001b[0m \u001b[0;34m=\u001b[0m \u001b[0mpandas\u001b[0m\u001b[0;34m.\u001b[0m\u001b[0mread_excel\u001b[0m\u001b[0;34m(\u001b[0m\u001b[0;34m\"path_to_filename.xlsx\"\u001b[0m\u001b[0;34m)\u001b[0m\u001b[0;34m\u001b[0m\u001b[0;34m\u001b[0m\u001b[0m\n\u001b[0m\u001b[1;32m      3\u001b[0m \u001b[0mdataset\u001b[0m \u001b[0;34m=\u001b[0m \u001b[0mpandas\u001b[0m\u001b[0;34m.\u001b[0m\u001b[0mread_csv\u001b[0m\u001b[0;34m(\u001b[0m\u001b[0;34m\"path_to_filename.csv\"\u001b[0m\u001b[0;34m)\u001b[0m\u001b[0;34m\u001b[0m\u001b[0;34m\u001b[0m\u001b[0m\n\u001b[1;32m      4\u001b[0m \u001b[0mdataset\u001b[0m \u001b[0;34m=\u001b[0m \u001b[0mpandas\u001b[0m\u001b[0;34m.\u001b[0m\u001b[0mread_pickle\u001b[0m\u001b[0;34m(\u001b[0m\u001b[0;34m\"path_to_filename.pkl\"\u001b[0m\u001b[0;34m)\u001b[0m\u001b[0;34m\u001b[0m\u001b[0;34m\u001b[0m\u001b[0m\n",
            "\u001b[0;32m/usr/local/lib/python3.9/dist-packages/pandas/util/_decorators.py\u001b[0m in \u001b[0;36mwrapper\u001b[0;34m(*args, **kwargs)\u001b[0m\n\u001b[1;32m    309\u001b[0m                     \u001b[0mstacklevel\u001b[0m\u001b[0;34m=\u001b[0m\u001b[0mstacklevel\u001b[0m\u001b[0;34m,\u001b[0m\u001b[0;34m\u001b[0m\u001b[0;34m\u001b[0m\u001b[0m\n\u001b[1;32m    310\u001b[0m                 )\n\u001b[0;32m--> 311\u001b[0;31m             \u001b[0;32mreturn\u001b[0m \u001b[0mfunc\u001b[0m\u001b[0;34m(\u001b[0m\u001b[0;34m*\u001b[0m\u001b[0margs\u001b[0m\u001b[0;34m,\u001b[0m \u001b[0;34m**\u001b[0m\u001b[0mkwargs\u001b[0m\u001b[0;34m)\u001b[0m\u001b[0;34m\u001b[0m\u001b[0;34m\u001b[0m\u001b[0m\n\u001b[0m\u001b[1;32m    312\u001b[0m \u001b[0;34m\u001b[0m\u001b[0m\n\u001b[1;32m    313\u001b[0m         \u001b[0;32mreturn\u001b[0m \u001b[0mwrapper\u001b[0m\u001b[0;34m\u001b[0m\u001b[0;34m\u001b[0m\u001b[0m\n",
            "\u001b[0;32m/usr/local/lib/python3.9/dist-packages/pandas/io/excel/_base.py\u001b[0m in \u001b[0;36mread_excel\u001b[0;34m(io, sheet_name, header, names, index_col, usecols, squeeze, dtype, engine, converters, true_values, false_values, skiprows, nrows, na_values, keep_default_na, na_filter, verbose, parse_dates, date_parser, thousands, decimal, comment, skipfooter, convert_float, mangle_dupe_cols, storage_options)\u001b[0m\n\u001b[1;32m    455\u001b[0m     \u001b[0;32mif\u001b[0m \u001b[0;32mnot\u001b[0m \u001b[0misinstance\u001b[0m\u001b[0;34m(\u001b[0m\u001b[0mio\u001b[0m\u001b[0;34m,\u001b[0m \u001b[0mExcelFile\u001b[0m\u001b[0;34m)\u001b[0m\u001b[0;34m:\u001b[0m\u001b[0;34m\u001b[0m\u001b[0;34m\u001b[0m\u001b[0m\n\u001b[1;32m    456\u001b[0m         \u001b[0mshould_close\u001b[0m \u001b[0;34m=\u001b[0m \u001b[0;32mTrue\u001b[0m\u001b[0;34m\u001b[0m\u001b[0;34m\u001b[0m\u001b[0m\n\u001b[0;32m--> 457\u001b[0;31m         \u001b[0mio\u001b[0m \u001b[0;34m=\u001b[0m \u001b[0mExcelFile\u001b[0m\u001b[0;34m(\u001b[0m\u001b[0mio\u001b[0m\u001b[0;34m,\u001b[0m \u001b[0mstorage_options\u001b[0m\u001b[0;34m=\u001b[0m\u001b[0mstorage_options\u001b[0m\u001b[0;34m,\u001b[0m \u001b[0mengine\u001b[0m\u001b[0;34m=\u001b[0m\u001b[0mengine\u001b[0m\u001b[0;34m)\u001b[0m\u001b[0;34m\u001b[0m\u001b[0;34m\u001b[0m\u001b[0m\n\u001b[0m\u001b[1;32m    458\u001b[0m     \u001b[0;32melif\u001b[0m \u001b[0mengine\u001b[0m \u001b[0;32mand\u001b[0m \u001b[0mengine\u001b[0m \u001b[0;34m!=\u001b[0m \u001b[0mio\u001b[0m\u001b[0;34m.\u001b[0m\u001b[0mengine\u001b[0m\u001b[0;34m:\u001b[0m\u001b[0;34m\u001b[0m\u001b[0;34m\u001b[0m\u001b[0m\n\u001b[1;32m    459\u001b[0m         raise ValueError(\n",
            "\u001b[0;32m/usr/local/lib/python3.9/dist-packages/pandas/io/excel/_base.py\u001b[0m in \u001b[0;36m__init__\u001b[0;34m(self, path_or_buffer, engine, storage_options)\u001b[0m\n\u001b[1;32m   1374\u001b[0m                 \u001b[0mext\u001b[0m \u001b[0;34m=\u001b[0m \u001b[0;34m\"xls\"\u001b[0m\u001b[0;34m\u001b[0m\u001b[0;34m\u001b[0m\u001b[0m\n\u001b[1;32m   1375\u001b[0m             \u001b[0;32melse\u001b[0m\u001b[0;34m:\u001b[0m\u001b[0;34m\u001b[0m\u001b[0;34m\u001b[0m\u001b[0m\n\u001b[0;32m-> 1376\u001b[0;31m                 ext = inspect_excel_format(\n\u001b[0m\u001b[1;32m   1377\u001b[0m                     \u001b[0mcontent_or_path\u001b[0m\u001b[0;34m=\u001b[0m\u001b[0mpath_or_buffer\u001b[0m\u001b[0;34m,\u001b[0m \u001b[0mstorage_options\u001b[0m\u001b[0;34m=\u001b[0m\u001b[0mstorage_options\u001b[0m\u001b[0;34m\u001b[0m\u001b[0;34m\u001b[0m\u001b[0m\n\u001b[1;32m   1378\u001b[0m                 )\n",
            "\u001b[0;32m/usr/local/lib/python3.9/dist-packages/pandas/io/excel/_base.py\u001b[0m in \u001b[0;36minspect_excel_format\u001b[0;34m(content_or_path, storage_options)\u001b[0m\n\u001b[1;32m   1248\u001b[0m         \u001b[0mcontent_or_path\u001b[0m \u001b[0;34m=\u001b[0m \u001b[0mBytesIO\u001b[0m\u001b[0;34m(\u001b[0m\u001b[0mcontent_or_path\u001b[0m\u001b[0;34m)\u001b[0m\u001b[0;34m\u001b[0m\u001b[0;34m\u001b[0m\u001b[0m\n\u001b[1;32m   1249\u001b[0m \u001b[0;34m\u001b[0m\u001b[0m\n\u001b[0;32m-> 1250\u001b[0;31m     with get_handle(\n\u001b[0m\u001b[1;32m   1251\u001b[0m         \u001b[0mcontent_or_path\u001b[0m\u001b[0;34m,\u001b[0m \u001b[0;34m\"rb\"\u001b[0m\u001b[0;34m,\u001b[0m \u001b[0mstorage_options\u001b[0m\u001b[0;34m=\u001b[0m\u001b[0mstorage_options\u001b[0m\u001b[0;34m,\u001b[0m \u001b[0mis_text\u001b[0m\u001b[0;34m=\u001b[0m\u001b[0;32mFalse\u001b[0m\u001b[0;34m\u001b[0m\u001b[0;34m\u001b[0m\u001b[0m\n\u001b[1;32m   1252\u001b[0m     ) as handle:\n",
            "\u001b[0;32m/usr/local/lib/python3.9/dist-packages/pandas/io/common.py\u001b[0m in \u001b[0;36mget_handle\u001b[0;34m(path_or_buf, mode, encoding, compression, memory_map, is_text, errors, storage_options)\u001b[0m\n\u001b[1;32m    793\u001b[0m         \u001b[0;32melse\u001b[0m\u001b[0;34m:\u001b[0m\u001b[0;34m\u001b[0m\u001b[0;34m\u001b[0m\u001b[0m\n\u001b[1;32m    794\u001b[0m             \u001b[0;31m# Binary mode\u001b[0m\u001b[0;34m\u001b[0m\u001b[0;34m\u001b[0m\u001b[0m\n\u001b[0;32m--> 795\u001b[0;31m             \u001b[0mhandle\u001b[0m \u001b[0;34m=\u001b[0m \u001b[0mopen\u001b[0m\u001b[0;34m(\u001b[0m\u001b[0mhandle\u001b[0m\u001b[0;34m,\u001b[0m \u001b[0mioargs\u001b[0m\u001b[0;34m.\u001b[0m\u001b[0mmode\u001b[0m\u001b[0;34m)\u001b[0m\u001b[0;34m\u001b[0m\u001b[0;34m\u001b[0m\u001b[0m\n\u001b[0m\u001b[1;32m    796\u001b[0m         \u001b[0mhandles\u001b[0m\u001b[0;34m.\u001b[0m\u001b[0mappend\u001b[0m\u001b[0;34m(\u001b[0m\u001b[0mhandle\u001b[0m\u001b[0;34m)\u001b[0m\u001b[0;34m\u001b[0m\u001b[0;34m\u001b[0m\u001b[0m\n\u001b[1;32m    797\u001b[0m \u001b[0;34m\u001b[0m\u001b[0m\n",
            "\u001b[0;31mFileNotFoundError\u001b[0m: [Errno 2] No such file or directory: 'path_to_filename.xlsx'"
          ]
        }
      ]
    },
    {
      "cell_type": "markdown",
      "source": [
        "#### Operaciones básicas"
      ],
      "metadata": {
        "id": "x91wv6KptLdp"
      }
    },
    {
      "cell_type": "code",
      "source": [
        "# Obtener estadisticas básicas de todo el conjunto\n",
        "dataset.describe()"
      ],
      "metadata": {
        "id": "LbA_lmB7aOgo"
      },
      "execution_count": null,
      "outputs": []
    },
    {
      "cell_type": "code",
      "source": [
        "# Buscar columnas con valores inexistentes\n",
        "dataset.isnull().any()"
      ],
      "metadata": {
        "id": "mvFOP9tNaPAv"
      },
      "execution_count": null,
      "outputs": []
    },
    {
      "cell_type": "code",
      "metadata": {
        "id": "fw35adzJYJcf"
      },
      "source": [
        "# Mostrar las 5 primeras filas\n",
        "dataset.head(5)"
      ],
      "execution_count": null,
      "outputs": []
    },
    {
      "cell_type": "code",
      "metadata": {
        "id": "1BCnyOBEccxt"
      },
      "source": [
        "# Nombre de columnas\n",
        "dataset.columns "
      ],
      "execution_count": null,
      "outputs": []
    },
    {
      "cell_type": "code",
      "metadata": {
        "id": "87CJkV0-cwFu"
      },
      "source": [
        "# Número de filas\n",
        "len(dataset) "
      ],
      "execution_count": null,
      "outputs": []
    },
    {
      "cell_type": "code",
      "metadata": {
        "id": "qk6HVY3yccm-"
      },
      "source": [
        "# Número de columnas\n",
        "len(dataset.columns) "
      ],
      "execution_count": null,
      "outputs": []
    },
    {
      "cell_type": "code",
      "metadata": {
        "id": "zoTqeW4kccb-"
      },
      "source": [
        "# Acceder a una columna\n",
        "dataset[\"column1\"] "
      ],
      "execution_count": null,
      "outputs": []
    },
    {
      "cell_type": "code",
      "source": [
        "# Operaciones sobre columnas numéricas\n",
        "dataset[\"column1\"]+1"
      ],
      "metadata": {
        "id": "zZAgrYbnYCnx"
      },
      "execution_count": null,
      "outputs": []
    },
    {
      "cell_type": "code",
      "metadata": {
        "id": "9Wjk5MnfdsKP"
      },
      "source": [
        "# Ver los valores únicos (sin repeticiones) de una columna\n",
        "dataset[\"column1\"].unique() "
      ],
      "execution_count": null,
      "outputs": []
    },
    {
      "cell_type": "code",
      "source": [
        "# Añadir columna\n",
        "dataset[\"column_new\"] = 1"
      ],
      "metadata": {
        "id": "GVGwocbOEWij"
      },
      "execution_count": null,
      "outputs": []
    },
    {
      "cell_type": "code",
      "metadata": {
        "id": "-CccLsKTcV4P"
      },
      "source": [
        "# Acceder a varias columnas\n",
        "dataset[[\"column1\",\"column2\"]] "
      ],
      "execution_count": null,
      "outputs": []
    },
    {
      "cell_type": "code",
      "metadata": {
        "id": "_QrHvvyYsw0R"
      },
      "source": [
        "# Obtener el máximo, media y mínimo de una columna\n",
        "max_col  = dataset[\"column1\"].max()\n",
        "mean_col = dataset[\"column1\"].mean()\n",
        "min_col  = dataset[\"column1\"].min()\n",
        "\n",
        "print(max_col, mean_col ,min_col)"
      ],
      "execution_count": null,
      "outputs": []
    },
    {
      "cell_type": "code",
      "source": [
        "# Obtener múltiples estadisticas de una columna\n",
        "dataset[\"age\"].describe()"
      ],
      "metadata": {
        "id": "MV8ebAWpV1p1"
      },
      "execution_count": null,
      "outputs": []
    },
    {
      "cell_type": "code",
      "metadata": {
        "id": "ZhnMEKQatqaj"
      },
      "source": [
        "# Acceder a la fila 21 , columna 5 (empezando en cero)\n",
        "dataset.iloc[21,5]"
      ],
      "execution_count": null,
      "outputs": []
    },
    {
      "cell_type": "code",
      "source": [
        "# Acceder a todas las filas , columna 5 (empezando en cero)\n",
        "dataset.iloc[:,5]"
      ],
      "metadata": {
        "id": "djk7Q8lTDfL7"
      },
      "execution_count": null,
      "outputs": []
    },
    {
      "cell_type": "code",
      "source": [
        "# Acceder a todas las filas , columnas 0, 1, 2 y 3\n",
        "dataset.iloc[:,0:4]"
      ],
      "metadata": {
        "id": "ogEHD05ZDj3E"
      },
      "execution_count": null,
      "outputs": []
    },
    {
      "cell_type": "markdown",
      "metadata": {
        "id": "KFMqpyYdc_cf"
      },
      "source": [
        "#### **Filtrado y agrupamiento de datos**"
      ]
    },
    {
      "cell_type": "code",
      "metadata": {
        "id": "3D1qAM3ec-sG"
      },
      "source": [
        "# Obtener las filas cuya columna cumpla una condición\n",
        "filtered_data = dataset.loc[dataset[\"column1\"]>40]"
      ],
      "execution_count": null,
      "outputs": []
    },
    {
      "cell_type": "code",
      "metadata": {
        "id": "IfDq3f7HvHuC"
      },
      "source": [
        "# Media de column2 de cada column1\n",
        "dataset.groupby(\"column1\")[\"column2\"].mean()"
      ],
      "execution_count": null,
      "outputs": []
    },
    {
      "cell_type": "markdown",
      "source": [
        "## Sklearn"
      ],
      "metadata": {
        "id": "-8CCtyNltFcx"
      }
    },
    {
      "cell_type": "markdown",
      "source": [
        "#### Importar librería"
      ],
      "metadata": {
        "id": "9Jx1_pGl2hFA"
      }
    },
    {
      "cell_type": "code",
      "source": [
        "import sklearn"
      ],
      "metadata": {
        "id": "nzF8YQ8_2iRp"
      },
      "execution_count": null,
      "outputs": []
    },
    {
      "cell_type": "markdown",
      "source": [
        "#### Dividir un conjunto en dos partes"
      ],
      "metadata": {
        "id": "lEkYfap42is3"
      }
    },
    {
      "cell_type": "code",
      "source": [
        "from sklearn.model_selection import train_test_split\n",
        "train, test = train_test_split(dataset, test_size=None, stratify=None)"
      ],
      "metadata": {
        "id": "K8BuN91KHRf6"
      },
      "execution_count": null,
      "outputs": []
    },
    {
      "cell_type": "markdown",
      "source": [
        "\n",
        "\n",
        "```\n",
        "# Tiene formato de código\n",
        "```\n",
        "\n",
        "* **dataset:** Conjunto de datos.\n",
        "\n",
        "* **test_size:** Float entre 0.0 y 1.0 que representa el porcentaje de `dataset` que formará parte del test.\n",
        "\n",
        "* **stratify:** Si no es None, los datos se dividen de manera estratificada, para ello hay que proporcionarle los valores de las clases."
      ],
      "metadata": {
        "id": "sNOSFg1FFJtU"
      }
    },
    {
      "cell_type": "markdown",
      "source": [
        "#### Dividir un conjunto en *k* partes"
      ],
      "metadata": {
        "id": "sUH4VQ-YHuQ-"
      }
    },
    {
      "cell_type": "code",
      "source": [
        "from sklearn.model_selection import KFold\n",
        "kf = KFold(n_splits=2)\n",
        "kf.get_n_splits(dataset)"
      ],
      "metadata": {
        "id": "TTysGLxIHuQ_"
      },
      "execution_count": null,
      "outputs": []
    },
    {
      "cell_type": "markdown",
      "source": [
        "* **n_splits:** Número de divisiones del conjunto de datos."
      ],
      "metadata": {
        "id": "8wpKK8LHHuQ_"
      }
    },
    {
      "cell_type": "markdown",
      "source": [
        "## Tensorflow y Keras"
      ],
      "metadata": {
        "id": "zZjLC6UITW5U"
      }
    },
    {
      "cell_type": "markdown",
      "source": [
        "#### Importar librería"
      ],
      "metadata": {
        "id": "x5nLKqT2Tb8w"
      }
    },
    {
      "cell_type": "code",
      "source": [
        "import tensorflow as tf"
      ],
      "metadata": {
        "id": "Ao2f7RtsIYJ7"
      },
      "execution_count": null,
      "outputs": []
    },
    {
      "cell_type": "markdown",
      "source": [
        "#### Funciones auxiliares"
      ],
      "metadata": {
        "id": "lt2q99xVJ82E"
      }
    },
    {
      "cell_type": "code",
      "source": [
        "# Añadir padding a secuencias\n",
        "from tensorflow.keras.utils import pad_sequences\n",
        "a = [[1], [2, 3], [4, 5, 6]]\n",
        "a_sequence = pad_sequences(a) # [[0,0,1], [0,2,3], [4,5,6]]"
      ],
      "metadata": {
        "id": "cSBg9aAp_hDd"
      },
      "execution_count": null,
      "outputs": []
    },
    {
      "cell_type": "code",
      "source": [
        "# Transformar clases a vectores\n",
        "from tensorflow.keras.utils import to_categorical\n",
        "a = [0,1,2,2,1,0]\n",
        "a_vec = to_categorical(a) # [[1,0,0], [0,1,0], [0,0,1] ...]"
      ],
      "metadata": {
        "id": "_O-jN5fpJ8in"
      },
      "execution_count": null,
      "outputs": []
    },
    {
      "cell_type": "markdown",
      "source": [
        "#### Crear un modelo secuencial"
      ],
      "metadata": {
        "id": "5Cyuh3K7IuaY"
      }
    },
    {
      "cell_type": "code",
      "source": [
        "from tensorflow.keras.models import Sequential\n",
        "model = Sequential()"
      ],
      "metadata": {
        "id": "t6IG43THIykr"
      },
      "execution_count": null,
      "outputs": []
    },
    {
      "cell_type": "markdown",
      "source": [
        "#### Añadir capas densas a un modelo existente"
      ],
      "metadata": {
        "id": "h74jfVAfI4xr"
      }
    },
    {
      "cell_type": "code",
      "source": [
        "from tensorflow.keras.layers import Dense\n",
        "model.add(Dense(10, input_dim=6, activation=\"relu\"))\n",
        "model.add(Dense(6, activation=\"sigmoid\"))\n",
        "model.add(Dense(2, activation=\"softmax\"))"
      ],
      "metadata": {
        "id": "YLznqodQI8V_"
      },
      "execution_count": null,
      "outputs": []
    },
    {
      "cell_type": "markdown",
      "source": [
        "#### Definir loss, optimizador y compilar modelo"
      ],
      "metadata": {
        "id": "09-YlDIiJX3E"
      }
    },
    {
      "cell_type": "code",
      "source": [
        "from tensorflow.keras.optimizers import SGD\n",
        "sgd = SGD(learning_rate=1e-4)\n",
        "model.compile(loss=\"categorical_crossentropy\", optimizer=sgd)"
      ],
      "metadata": {
        "id": "it4K39VSJXUU"
      },
      "execution_count": null,
      "outputs": []
    },
    {
      "cell_type": "markdown",
      "source": [
        "#### Obtener resumen del modelo"
      ],
      "metadata": {
        "id": "fBgIPYlpJwa-"
      }
    },
    {
      "cell_type": "code",
      "source": [
        "model.summary()"
      ],
      "metadata": {
        "id": "Ffzn2M6mJ1L4"
      },
      "execution_count": null,
      "outputs": []
    },
    {
      "cell_type": "markdown",
      "source": [
        "#### Entrenar modelo"
      ],
      "metadata": {
        "id": "2KOjpVwIJ4Ik"
      }
    },
    {
      "cell_type": "code",
      "source": [
        "model.fit(X, Y, epochs=10, batch_size=512, verbose=1, validation_data=(X_val, Y_val))"
      ],
      "metadata": {
        "id": "gD5wd57IJ3xl"
      },
      "execution_count": null,
      "outputs": []
    },
    {
      "cell_type": "markdown",
      "source": [
        "* **X:** Datos de entrada para el entrenamiento.\n",
        "* **Y:** Datos de salida para el entrenamiento.\n",
        "* **epochs:** Número de epochs.\n",
        "* **batch_size:** Tamaño de los batches.\n",
        "* **verbose:** Imprimir o no información durante el entrenamiento.\n",
        "* **validation_data:** Datos de entrada y salida para la fase de validación."
      ],
      "metadata": {
        "id": "FJJ2qIKVKyOj"
      }
    }
  ]
}