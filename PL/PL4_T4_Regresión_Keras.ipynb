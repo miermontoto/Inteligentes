{
  "nbformat": 4,
  "nbformat_minor": 0,
  "metadata": {
    "colab": {
      "provenance": []
    },
    "kernelspec": {
      "name": "python3",
      "display_name": "Python 3"
    },
    "accelerator": "GPU",
    "gpuClass": "standard"
  },
  "cells": [
    {
      "cell_type": "markdown",
      "metadata": {
        "id": "dr6MvAdKZGRo"
      },
      "source": [
        "#Ejemplo de regresión con Keras + TensorFlow"
      ]
    },
    {
      "cell_type": "markdown",
      "metadata": {
        "id": "I8gmpfvKZmQM"
      },
      "source": [
        "## 1. Importar librerías necesarias\n",
        "Lo primero que vamos a hacer es instalar librerías necesarias para dibujar la red gráficamente. Estas librerías no son imprescindibles, pero vamos a incorporarlas para utilizar una función de keras que nos permitirá ver de manera gráfica la red creada.\n",
        "\n",
        "Después cargaremos las librerías que sí son imprescindibles, entre las que se encuentran: keras, tensorflow, numpy,...\n",
        "\n"
      ]
    },
    {
      "cell_type": "code",
      "metadata": {
        "id": "3GpBKxJhZqP4",
        "colab": {
          "base_uri": "https://localhost:8080/"
        },
        "outputId": "5ef93705-1099-4573-8ec3-82e71755f075"
      },
      "source": [
        "#Instalar librerias para dibujar la red gráficamente\n",
        "!pip install pydot\n",
        "!apt-get install graphviz\n",
        "\n",
        "#Cargar librerias necesarias\n",
        "import math\n",
        "import tensorflow as tf\n",
        "import numpy as np\n",
        "import matplotlib.pyplot as plt\n",
        "\n",
        "from tensorflow.keras.models import Sequential\n",
        "from tensorflow.keras.layers import Dense\n",
        "from tensorflow.keras.utils import plot_model\n",
        "from tensorflow.keras.optimizers import SGD"
      ],
      "execution_count": null,
      "outputs": [
        {
          "output_type": "stream",
          "name": "stdout",
          "text": [
            "Looking in indexes: https://pypi.org/simple, https://us-python.pkg.dev/colab-wheels/public/simple/\n",
            "Requirement already satisfied: pydot in /usr/local/lib/python3.9/dist-packages (1.4.2)\n",
            "Requirement already satisfied: pyparsing>=2.1.4 in /usr/local/lib/python3.9/dist-packages (from pydot) (3.0.9)\n",
            "Reading package lists... Done\n",
            "Building dependency tree       \n",
            "Reading state information... Done\n",
            "graphviz is already the newest version (2.42.2-3build2).\n",
            "0 upgraded, 0 newly installed, 0 to remove and 24 not upgraded.\n"
          ]
        }
      ]
    },
    {
      "cell_type": "markdown",
      "metadata": {
        "id": "FNp7SsgaY3UV"
      },
      "source": [
        "## 2. Generar los datos de entrenamiento\n",
        "\n",
        "Ahora vamos a generar un conjunto de ejemplos para un problema de regresión. En concreto, nuestro problema tendrá ejemplos representados en $\\mathbb{R}^2$. El valor real de estos ejemplos vendrá dado por la función $y=cos(x_0)+sin(x_1)$.\n",
        "\n",
        "Esta función es claramente **no lineal**\n",
        "\n",
        ""
      ]
    },
    {
      "cell_type": "code",
      "metadata": {
        "id": "eqtgKKrQYx49",
        "colab": {
          "base_uri": "https://localhost:8080/"
        },
        "outputId": "256a15ac-2dc8-4dd6-911d-39bae74b006b"
      },
      "source": [
        "seed = 2032  # semilla de números aleatorios\n",
        "NE = 5000  # se van a generar NE ejemplos\n",
        "\n",
        "np.random.seed(seed)  # se inicializalizan los números aleatorios\n",
        "\n",
        "# Generar una matriz de NE filas y 2 columnas con datos uniformes entre -5 y 5\n",
        "laX = np.random.uniform(-5, 5, size=[NE, 2])\n",
        "\n",
        "laY = np.zeros((NE, 1)) # Reservar espacio para la Y\n",
        "\n",
        "# Rellenar el vector de la Y\n",
        "for i in range(NE):\n",
        "    laY[i] = math.cos(laX[i, 0])+math.sin(laX[i, 1])\n",
        "\n",
        "print(laX)\n",
        "print(laY)"
      ],
      "execution_count": null,
      "outputs": [
        {
          "output_type": "stream",
          "name": "stdout",
          "text": [
            "[[ 4.5557887   3.84923263]\n",
            " [-2.22296771  2.30424712]\n",
            " [ 0.9677073  -2.77795226]\n",
            " ...\n",
            " [ 3.52344383 -2.2835793 ]\n",
            " [-2.81862311  4.66132362]\n",
            " [ 4.81409483  1.67149958]]\n",
            "[[-0.8060032 ]\n",
            " [ 0.13595516]\n",
            " [ 0.21151034]\n",
            " ...\n",
            " [-1.68452131]\n",
            " [-1.94699356]\n",
            " [ 1.09646431]]\n"
          ]
        }
      ]
    },
    {
      "cell_type": "markdown",
      "metadata": {
        "id": "DNJsP89caKmY"
      },
      "source": [
        "## 3. Crear el modelo (modelo lineal)\n",
        "Lo primero que vamos a hacer es crear una red sin capas ocultas. Esta red se conoce como perceptrón lineal y sólo es capaz de resolver problemas lineales.\n",
        "\n",
        "**Lee los comentarios del código detenidamente para entender lo que se está haciendo.**\n",
        "\n",
        "*En la web de tensorflow puedes encontar tutoriales detallados*\n",
        "\n",
        "Fíjate que la línea **model.summary()** imprime una representación en modo texto de la red y además indica el número de parámetros que se deben aprender en cada capa. En este caso hay una sola capa y los parámetros que hay que aprender son 3: los dos coeficientes que se multiplicarán por las entradas y el término independiente.\n"
      ]
    },
    {
      "cell_type": "code",
      "metadata": {
        "id": "R9tXs9SBfnr_",
        "colab": {
          "base_uri": "https://localhost:8080/",
          "height": 365
        },
        "outputId": "21f904ba-fe2e-4121-b1d6-9d9f06828b0f"
      },
      "source": [
        "\"\"\" SE DEFINE LA RED \"\"\"\n",
        "tf.keras.utils.set_random_seed(seed) # Fijar semilla del keras/tensorflow\n",
        "\n",
        "n_input = 2      # Celdas en la capa de entrada (variables de entrada)\n",
        "n_output = 1     # Celdas en la capa de salida (un valor numérico)\n",
        "\n",
        "# Definir las capas del modelo\n",
        "model = Sequential()\n",
        "model.add(Dense(n_output, input_dim=n_input, name=\"output_layer\"))\n",
        "\n",
        "# Como se puede ver, se crea un modelo secuencial donde cada capa añadida recibe\n",
        "# como entrada la salida de la anterior.\n",
        "# La dimensión de la entrada siempre se define en la primera capa del modelo\n",
        "# (parámetro input_dim) => model.add(Dense(n_output, input_dim=n_input, name=\"output_layer\"))\n",
        "\n",
        "# Existe también una forma \"funcional\" de crear modelos. En este caso sería:\n",
        "# in_layer = Input(shape =(n_input,))\n",
        "# out_layer = Dense(n_output, name=\"out_layer\")(in_layer)\n",
        "#\n",
        "# model = Model(inputs = [in_layer], outputs = [out_layer])\n",
        "\n",
        "\"\"\" SELECCIONAR OPTIMIZADOR E INICIALIZAR PARÁMETROS \"\"\"\n",
        "# Learning rate del modelo. Es el alpha que multiplicará a la derivada cuando\n",
        "# se va a hacer la modificación de los parámetros que se aprenden.\n",
        "learning_rate = 0.001\n",
        "\n",
        "# Definir el optimizador a utilizar (SGD, descenso del gradiente estocástico)\n",
        "# Consulta la ayuda para ver qué otros optimizadores hay\n",
        "sgd = SGD(learning_rate=learning_rate)\n",
        "\n",
        "# Compilar el modelo indicando la función de pérdida (loss) y el optimizador\n",
        "model.compile(loss='mean_squared_error', optimizer=sgd )\n",
        "\n",
        "\"\"\" SE VISUALIZA EL MODELO \"\"\"\n",
        "# Imprimir en modo texto finalmente el resumen/arquitectura de nuestro modelo\n",
        "# Esta información permite conocer el número de parámetros que se han de aprender\n",
        "model.summary()\n",
        "\n",
        "# Obtener un fichero con la representación gráfica del modelo\n",
        "plot_model(model, to_file='model.png')\n",
        "# Después de ejecutar esta línea se genera el fichero 'model.png'. Para poder\n",
        "# verlo, tienes que ir a la parte izquierda, acceder a la pestaña 'Archivos' y\n",
        "# 'actualizar', aparecerá entonces el archivo y podrás verlo (doble click sobre\n",
        "# el fichero 'model.png' o click con el botón derecho para descargarlo)\n"
      ],
      "execution_count": null,
      "outputs": [
        {
          "output_type": "stream",
          "name": "stdout",
          "text": [
            "Model: \"sequential\"\n",
            "_________________________________________________________________\n",
            " Layer (type)                Output Shape              Param #   \n",
            "=================================================================\n",
            " output_layer (Dense)        (None, 1)                 3         \n",
            "                                                                 \n",
            "=================================================================\n",
            "Total params: 3\n",
            "Trainable params: 3\n",
            "Non-trainable params: 0\n",
            "_________________________________________________________________\n"
          ]
        },
        {
          "output_type": "execute_result",
          "data": {
            "image/png": "[encoded data removed]",
            "text/plain": [
              "<IPython.core.display.Image object>"
            ]
          },
          "metadata": {},
          "execution_count": 3
        }
      ]
    },
    {
      "cell_type": "markdown",
      "metadata": {
        "id": "DdF03maw6_rE"
      },
      "source": [
        "## 4. Entrenar el modelo\n",
        "Una vez que ya hemos definido cómo va a ser nuestro modelo, vamos a entrenarlo para buscar los parámetros que hagan mínima la función de pérdida.\n",
        "\n",
        "Para ello utilizaremos el método **fit**. Necesita que le suministremos los ejemplos (laX, laY), el tamaño del *batch* y el número de *epochs*.\n",
        "\n",
        "El número de epochs es el número de veces que el algoritmo va a ver los ejemplos durante el entrenamiento.\n",
        "\n",
        "El tamaño del batch es el número de ejemplos que se van a utilizar en cada actualización de los parámetros.\n",
        "\n",
        "En el código vemos que elegimos como tamaño de batch 128. Como tenemos 5000 ejemplos y 5000/128=40, esto quiere decir que en 40 actualizaciones de los parámetros llegamos a los 5000 ejemplos, lo que completaría una epoch. Como le indicamos en el código que queremos 200 epochs, estaremos permitiendo que el algoritmo haga en total 40x200=8000 actualizaciones.\n",
        "\n",
        "Con **verbose=2** le pedimos que nos muestre el error al finalizar cada epoch.\n",
        "\n",
        "Fíjate que lo que retorna fit lo almacenamos en una variable que llamamos history. Más adelante la utilizaremos."
      ]
    },
    {
      "cell_type": "code",
      "metadata": {
        "id": "pVC1XJBg7Q1H",
        "colab": {
          "base_uri": "https://localhost:8080/"
        },
        "outputId": "34555ae7-d2a6-4a91-d35a-938c21c48cc8"
      },
      "source": [
        "batch = 128    # Tamaño del batch\n",
        "n_epochs = 200 # Número de epochs\n",
        "\n",
        "#Entrenar el modelo a partir de los ejemplos de TRAIN creados en el punto 2\n",
        "history = model.fit(laX, laY, batch_size=batch, epochs=n_epochs, verbose=2)"
      ],
      "execution_count": null,
      "outputs": [
        {
          "output_type": "stream",
          "name": "stdout",
          "text": [
            "Epoch 1/200\n",
            "40/40 - 6s - loss: 6.0136 - 6s/epoch - 158ms/step\n",
            "Epoch 2/200\n",
            "40/40 - 0s - loss: 2.2391 - 128ms/epoch - 3ms/step\n",
            "Epoch 3/200\n",
            "40/40 - 0s - loss: 1.2852 - 144ms/epoch - 4ms/step\n",
            "Epoch 4/200\n",
            "40/40 - 0s - loss: 1.0368 - 208ms/epoch - 5ms/step\n",
            "Epoch 5/200\n",
            "40/40 - 0s - loss: 0.9694 - 179ms/epoch - 4ms/step\n",
            "Epoch 6/200\n",
            "40/40 - 0s - loss: 0.9486 - 198ms/epoch - 5ms/step\n",
            "Epoch 7/200\n",
            "40/40 - 0s - loss: 0.9428 - 139ms/epoch - 3ms/step\n",
            "Epoch 8/200\n",
            "40/40 - 0s - loss: 0.9399 - 91ms/epoch - 2ms/step\n",
            "Epoch 9/200\n",
            "40/40 - 0s - loss: 0.9376 - 85ms/epoch - 2ms/step\n",
            "Epoch 10/200\n",
            "40/40 - 0s - loss: 0.9359 - 81ms/epoch - 2ms/step\n",
            "Epoch 11/200\n",
            "40/40 - 0s - loss: 0.9346 - 78ms/epoch - 2ms/step\n",
            "Epoch 12/200\n",
            "40/40 - 0s - loss: 0.9335 - 76ms/epoch - 2ms/step\n",
            "Epoch 13/200\n",
            "40/40 - 0s - loss: 0.9326 - 75ms/epoch - 2ms/step\n",
            "Epoch 14/200\n",
            "40/40 - 0s - loss: 0.9316 - 85ms/epoch - 2ms/step\n",
            "Epoch 15/200\n",
            "40/40 - 0s - loss: 0.9308 - 78ms/epoch - 2ms/step\n",
            "Epoch 16/200\n",
            "40/40 - 0s - loss: 0.9302 - 75ms/epoch - 2ms/step\n",
            "Epoch 17/200\n",
            "40/40 - 0s - loss: 0.9296 - 78ms/epoch - 2ms/step\n",
            "Epoch 18/200\n",
            "40/40 - 0s - loss: 0.9291 - 92ms/epoch - 2ms/step\n",
            "Epoch 19/200\n",
            "40/40 - 0s - loss: 0.9288 - 86ms/epoch - 2ms/step\n",
            "Epoch 20/200\n",
            "40/40 - 0s - loss: 0.9283 - 81ms/epoch - 2ms/step\n",
            "Epoch 21/200\n",
            "40/40 - 0s - loss: 0.9281 - 82ms/epoch - 2ms/step\n",
            "Epoch 22/200\n",
            "40/40 - 0s - loss: 0.9278 - 82ms/epoch - 2ms/step\n",
            "Epoch 23/200\n",
            "40/40 - 0s - loss: 0.9276 - 81ms/epoch - 2ms/step\n",
            "Epoch 24/200\n",
            "40/40 - 0s - loss: 0.9273 - 80ms/epoch - 2ms/step\n",
            "Epoch 25/200\n",
            "40/40 - 0s - loss: 0.9273 - 82ms/epoch - 2ms/step\n",
            "Epoch 26/200\n",
            "40/40 - 0s - loss: 0.9271 - 98ms/epoch - 2ms/step\n",
            "Epoch 27/200\n",
            "40/40 - 0s - loss: 0.9271 - 79ms/epoch - 2ms/step\n",
            "Epoch 28/200\n",
            "40/40 - 0s - loss: 0.9270 - 80ms/epoch - 2ms/step\n",
            "Epoch 29/200\n",
            "40/40 - 0s - loss: 0.9269 - 81ms/epoch - 2ms/step\n",
            "Epoch 30/200\n",
            "40/40 - 0s - loss: 0.9268 - 87ms/epoch - 2ms/step\n",
            "Epoch 31/200\n",
            "40/40 - 0s - loss: 0.9267 - 78ms/epoch - 2ms/step\n",
            "Epoch 32/200\n",
            "40/40 - 0s - loss: 0.9267 - 90ms/epoch - 2ms/step\n",
            "Epoch 33/200\n",
            "40/40 - 0s - loss: 0.9266 - 89ms/epoch - 2ms/step\n",
            "Epoch 34/200\n",
            "40/40 - 0s - loss: 0.9267 - 82ms/epoch - 2ms/step\n",
            "Epoch 35/200\n",
            "40/40 - 0s - loss: 0.9266 - 79ms/epoch - 2ms/step\n",
            "Epoch 36/200\n",
            "40/40 - 0s - loss: 0.9267 - 83ms/epoch - 2ms/step\n",
            "Epoch 37/200\n",
            "40/40 - 0s - loss: 0.9266 - 106ms/epoch - 3ms/step\n",
            "Epoch 38/200\n",
            "40/40 - 0s - loss: 0.9266 - 79ms/epoch - 2ms/step\n",
            "Epoch 39/200\n",
            "40/40 - 0s - loss: 0.9266 - 81ms/epoch - 2ms/step\n",
            "Epoch 40/200\n",
            "40/40 - 0s - loss: 0.9266 - 80ms/epoch - 2ms/step\n",
            "Epoch 41/200\n",
            "40/40 - 0s - loss: 0.9265 - 82ms/epoch - 2ms/step\n",
            "Epoch 42/200\n",
            "40/40 - 0s - loss: 0.9266 - 80ms/epoch - 2ms/step\n",
            "Epoch 43/200\n",
            "40/40 - 0s - loss: 0.9265 - 80ms/epoch - 2ms/step\n",
            "Epoch 44/200\n",
            "40/40 - 0s - loss: 0.9265 - 79ms/epoch - 2ms/step\n",
            "Epoch 45/200\n",
            "40/40 - 0s - loss: 0.9265 - 92ms/epoch - 2ms/step\n",
            "Epoch 46/200\n",
            "40/40 - 0s - loss: 0.9265 - 79ms/epoch - 2ms/step\n",
            "Epoch 47/200\n",
            "40/40 - 0s - loss: 0.9266 - 81ms/epoch - 2ms/step\n",
            "Epoch 48/200\n",
            "40/40 - 0s - loss: 0.9265 - 84ms/epoch - 2ms/step\n",
            "Epoch 49/200\n",
            "40/40 - 0s - loss: 0.9265 - 85ms/epoch - 2ms/step\n",
            "Epoch 50/200\n",
            "40/40 - 0s - loss: 0.9265 - 80ms/epoch - 2ms/step\n",
            "Epoch 51/200\n",
            "40/40 - 0s - loss: 0.9265 - 77ms/epoch - 2ms/step\n",
            "Epoch 52/200\n",
            "40/40 - 0s - loss: 0.9266 - 76ms/epoch - 2ms/step\n",
            "Epoch 53/200\n",
            "40/40 - 0s - loss: 0.9265 - 78ms/epoch - 2ms/step\n",
            "Epoch 54/200\n",
            "40/40 - 0s - loss: 0.9265 - 78ms/epoch - 2ms/step\n",
            "Epoch 55/200\n",
            "40/40 - 0s - loss: 0.9265 - 84ms/epoch - 2ms/step\n",
            "Epoch 56/200\n",
            "40/40 - 0s - loss: 0.9265 - 98ms/epoch - 2ms/step\n",
            "Epoch 57/200\n",
            "40/40 - 0s - loss: 0.9265 - 77ms/epoch - 2ms/step\n",
            "Epoch 58/200\n",
            "40/40 - 0s - loss: 0.9265 - 78ms/epoch - 2ms/step\n",
            "Epoch 59/200\n",
            "40/40 - 0s - loss: 0.9265 - 77ms/epoch - 2ms/step\n",
            "Epoch 60/200\n",
            "40/40 - 0s - loss: 0.9265 - 79ms/epoch - 2ms/step\n",
            "Epoch 61/200\n",
            "40/40 - 0s - loss: 0.9266 - 85ms/epoch - 2ms/step\n",
            "Epoch 62/200\n",
            "40/40 - 0s - loss: 0.9265 - 76ms/epoch - 2ms/step\n",
            "Epoch 63/200\n",
            "40/40 - 0s - loss: 0.9266 - 77ms/epoch - 2ms/step\n",
            "Epoch 64/200\n",
            "40/40 - 0s - loss: 0.9265 - 75ms/epoch - 2ms/step\n",
            "Epoch 65/200\n",
            "40/40 - 0s - loss: 0.9266 - 76ms/epoch - 2ms/step\n",
            "Epoch 66/200\n",
            "40/40 - 0s - loss: 0.9265 - 79ms/epoch - 2ms/step\n",
            "Epoch 67/200\n",
            "40/40 - 0s - loss: 0.9265 - 76ms/epoch - 2ms/step\n",
            "Epoch 68/200\n",
            "40/40 - 0s - loss: 0.9265 - 75ms/epoch - 2ms/step\n",
            "Epoch 69/200\n",
            "40/40 - 0s - loss: 0.9265 - 80ms/epoch - 2ms/step\n",
            "Epoch 70/200\n",
            "40/40 - 0s - loss: 0.9265 - 81ms/epoch - 2ms/step\n",
            "Epoch 71/200\n",
            "40/40 - 0s - loss: 0.9265 - 76ms/epoch - 2ms/step\n",
            "Epoch 72/200\n",
            "40/40 - 0s - loss: 0.9265 - 81ms/epoch - 2ms/step\n",
            "Epoch 73/200\n",
            "40/40 - 0s - loss: 0.9265 - 83ms/epoch - 2ms/step\n",
            "Epoch 74/200\n",
            "40/40 - 0s - loss: 0.9265 - 80ms/epoch - 2ms/step\n",
            "Epoch 75/200\n",
            "40/40 - 0s - loss: 0.9265 - 74ms/epoch - 2ms/step\n",
            "Epoch 76/200\n",
            "40/40 - 0s - loss: 0.9265 - 75ms/epoch - 2ms/step\n",
            "Epoch 77/200\n",
            "40/40 - 0s - loss: 0.9265 - 84ms/epoch - 2ms/step\n",
            "Epoch 78/200\n",
            "40/40 - 0s - loss: 0.9265 - 86ms/epoch - 2ms/step\n",
            "Epoch 79/200\n",
            "40/40 - 0s - loss: 0.9267 - 74ms/epoch - 2ms/step\n",
            "Epoch 80/200\n",
            "40/40 - 0s - loss: 0.9265 - 76ms/epoch - 2ms/step\n",
            "Epoch 81/200\n",
            "40/40 - 0s - loss: 0.9265 - 84ms/epoch - 2ms/step\n",
            "Epoch 82/200\n",
            "40/40 - 0s - loss: 0.9265 - 74ms/epoch - 2ms/step\n",
            "Epoch 83/200\n",
            "40/40 - 0s - loss: 0.9265 - 76ms/epoch - 2ms/step\n",
            "Epoch 84/200\n",
            "40/40 - 0s - loss: 0.9265 - 128ms/epoch - 3ms/step\n",
            "Epoch 85/200\n",
            "40/40 - 0s - loss: 0.9265 - 122ms/epoch - 3ms/step\n",
            "Epoch 86/200\n",
            "40/40 - 0s - loss: 0.9266 - 116ms/epoch - 3ms/step\n",
            "Epoch 87/200\n",
            "40/40 - 0s - loss: 0.9265 - 112ms/epoch - 3ms/step\n",
            "Epoch 88/200\n",
            "40/40 - 0s - loss: 0.9265 - 111ms/epoch - 3ms/step\n",
            "Epoch 89/200\n",
            "40/40 - 0s - loss: 0.9265 - 113ms/epoch - 3ms/step\n",
            "Epoch 90/200\n",
            "40/40 - 0s - loss: 0.9265 - 114ms/epoch - 3ms/step\n",
            "Epoch 91/200\n",
            "40/40 - 0s - loss: 0.9265 - 114ms/epoch - 3ms/step\n",
            "Epoch 92/200\n",
            "40/40 - 0s - loss: 0.9265 - 124ms/epoch - 3ms/step\n",
            "Epoch 93/200\n",
            "40/40 - 0s - loss: 0.9264 - 114ms/epoch - 3ms/step\n",
            "Epoch 94/200\n",
            "40/40 - 0s - loss: 0.9266 - 122ms/epoch - 3ms/step\n",
            "Epoch 95/200\n",
            "40/40 - 0s - loss: 0.9266 - 116ms/epoch - 3ms/step\n",
            "Epoch 96/200\n",
            "40/40 - 0s - loss: 0.9265 - 116ms/epoch - 3ms/step\n",
            "Epoch 97/200\n",
            "40/40 - 0s - loss: 0.9265 - 116ms/epoch - 3ms/step\n",
            "Epoch 98/200\n",
            "40/40 - 0s - loss: 0.9265 - 115ms/epoch - 3ms/step\n",
            "Epoch 99/200\n",
            "40/40 - 0s - loss: 0.9265 - 119ms/epoch - 3ms/step\n",
            "Epoch 100/200\n",
            "40/40 - 0s - loss: 0.9266 - 119ms/epoch - 3ms/step\n",
            "Epoch 101/200\n",
            "40/40 - 0s - loss: 0.9264 - 116ms/epoch - 3ms/step\n",
            "Epoch 102/200\n",
            "40/40 - 0s - loss: 0.9265 - 119ms/epoch - 3ms/step\n",
            "Epoch 103/200\n",
            "40/40 - 0s - loss: 0.9266 - 82ms/epoch - 2ms/step\n",
            "Epoch 104/200\n",
            "40/40 - 0s - loss: 0.9264 - 76ms/epoch - 2ms/step\n",
            "Epoch 105/200\n",
            "40/40 - 0s - loss: 0.9265 - 76ms/epoch - 2ms/step\n",
            "Epoch 106/200\n",
            "40/40 - 0s - loss: 0.9265 - 75ms/epoch - 2ms/step\n",
            "Epoch 107/200\n",
            "40/40 - 0s - loss: 0.9265 - 78ms/epoch - 2ms/step\n",
            "Epoch 108/200\n",
            "40/40 - 0s - loss: 0.9265 - 78ms/epoch - 2ms/step\n",
            "Epoch 109/200\n",
            "40/40 - 0s - loss: 0.9266 - 79ms/epoch - 2ms/step\n",
            "Epoch 110/200\n",
            "40/40 - 0s - loss: 0.9265 - 83ms/epoch - 2ms/step\n",
            "Epoch 111/200\n",
            "40/40 - 0s - loss: 0.9266 - 76ms/epoch - 2ms/step\n",
            "Epoch 112/200\n",
            "40/40 - 0s - loss: 0.9265 - 79ms/epoch - 2ms/step\n",
            "Epoch 113/200\n",
            "40/40 - 0s - loss: 0.9264 - 83ms/epoch - 2ms/step\n",
            "Epoch 114/200\n",
            "40/40 - 0s - loss: 0.9266 - 76ms/epoch - 2ms/step\n",
            "Epoch 115/200\n",
            "40/40 - 0s - loss: 0.9266 - 85ms/epoch - 2ms/step\n",
            "Epoch 116/200\n",
            "40/40 - 0s - loss: 0.9265 - 79ms/epoch - 2ms/step\n",
            "Epoch 117/200\n",
            "40/40 - 0s - loss: 0.9266 - 76ms/epoch - 2ms/step\n",
            "Epoch 118/200\n",
            "40/40 - 0s - loss: 0.9265 - 77ms/epoch - 2ms/step\n",
            "Epoch 119/200\n",
            "40/40 - 0s - loss: 0.9266 - 78ms/epoch - 2ms/step\n",
            "Epoch 120/200\n",
            "40/40 - 0s - loss: 0.9266 - 84ms/epoch - 2ms/step\n",
            "Epoch 121/200\n",
            "40/40 - 0s - loss: 0.9265 - 76ms/epoch - 2ms/step\n",
            "Epoch 122/200\n",
            "40/40 - 0s - loss: 0.9264 - 75ms/epoch - 2ms/step\n",
            "Epoch 123/200\n",
            "40/40 - 0s - loss: 0.9266 - 83ms/epoch - 2ms/step\n",
            "Epoch 124/200\n",
            "40/40 - 0s - loss: 0.9266 - 80ms/epoch - 2ms/step\n",
            "Epoch 125/200\n",
            "40/40 - 0s - loss: 0.9265 - 76ms/epoch - 2ms/step\n",
            "Epoch 126/200\n",
            "40/40 - 0s - loss: 0.9265 - 76ms/epoch - 2ms/step\n",
            "Epoch 127/200\n",
            "40/40 - 0s - loss: 0.9267 - 91ms/epoch - 2ms/step\n",
            "Epoch 128/200\n",
            "40/40 - 0s - loss: 0.9265 - 74ms/epoch - 2ms/step\n",
            "Epoch 129/200\n",
            "40/40 - 0s - loss: 0.9265 - 74ms/epoch - 2ms/step\n",
            "Epoch 130/200\n",
            "40/40 - 0s - loss: 0.9265 - 78ms/epoch - 2ms/step\n",
            "Epoch 131/200\n",
            "40/40 - 0s - loss: 0.9265 - 75ms/epoch - 2ms/step\n",
            "Epoch 132/200\n",
            "40/40 - 0s - loss: 0.9266 - 77ms/epoch - 2ms/step\n",
            "Epoch 133/200\n",
            "40/40 - 0s - loss: 0.9265 - 79ms/epoch - 2ms/step\n",
            "Epoch 134/200\n",
            "40/40 - 0s - loss: 0.9265 - 82ms/epoch - 2ms/step\n",
            "Epoch 135/200\n",
            "40/40 - 0s - loss: 0.9265 - 78ms/epoch - 2ms/step\n",
            "Epoch 136/200\n",
            "40/40 - 0s - loss: 0.9265 - 77ms/epoch - 2ms/step\n",
            "Epoch 137/200\n",
            "40/40 - 0s - loss: 0.9265 - 83ms/epoch - 2ms/step\n",
            "Epoch 138/200\n",
            "40/40 - 0s - loss: 0.9265 - 75ms/epoch - 2ms/step\n",
            "Epoch 139/200\n",
            "40/40 - 0s - loss: 0.9265 - 85ms/epoch - 2ms/step\n",
            "Epoch 140/200\n",
            "40/40 - 0s - loss: 0.9265 - 73ms/epoch - 2ms/step\n",
            "Epoch 141/200\n",
            "40/40 - 0s - loss: 0.9265 - 75ms/epoch - 2ms/step\n",
            "Epoch 142/200\n",
            "40/40 - 0s - loss: 0.9265 - 78ms/epoch - 2ms/step\n",
            "Epoch 143/200\n",
            "40/40 - 0s - loss: 0.9265 - 76ms/epoch - 2ms/step\n",
            "Epoch 144/200\n",
            "40/40 - 0s - loss: 0.9265 - 83ms/epoch - 2ms/step\n",
            "Epoch 145/200\n",
            "40/40 - 0s - loss: 0.9265 - 78ms/epoch - 2ms/step\n",
            "Epoch 146/200\n",
            "40/40 - 0s - loss: 0.9265 - 74ms/epoch - 2ms/step\n",
            "Epoch 147/200\n",
            "40/40 - 0s - loss: 0.9265 - 81ms/epoch - 2ms/step\n",
            "Epoch 148/200\n",
            "40/40 - 0s - loss: 0.9265 - 75ms/epoch - 2ms/step\n",
            "Epoch 149/200\n",
            "40/40 - 0s - loss: 0.9265 - 76ms/epoch - 2ms/step\n",
            "Epoch 150/200\n",
            "40/40 - 0s - loss: 0.9266 - 75ms/epoch - 2ms/step\n",
            "Epoch 151/200\n",
            "40/40 - 0s - loss: 0.9265 - 87ms/epoch - 2ms/step\n",
            "Epoch 152/200\n",
            "40/40 - 0s - loss: 0.9267 - 76ms/epoch - 2ms/step\n",
            "Epoch 153/200\n",
            "40/40 - 0s - loss: 0.9265 - 75ms/epoch - 2ms/step\n",
            "Epoch 154/200\n",
            "40/40 - 0s - loss: 0.9265 - 74ms/epoch - 2ms/step\n",
            "Epoch 155/200\n",
            "40/40 - 0s - loss: 0.9265 - 75ms/epoch - 2ms/step\n",
            "Epoch 156/200\n",
            "40/40 - 0s - loss: 0.9265 - 78ms/epoch - 2ms/step\n",
            "Epoch 157/200\n",
            "40/40 - 0s - loss: 0.9268 - 80ms/epoch - 2ms/step\n",
            "Epoch 158/200\n",
            "40/40 - 0s - loss: 0.9266 - 77ms/epoch - 2ms/step\n",
            "Epoch 159/200\n",
            "40/40 - 0s - loss: 0.9265 - 78ms/epoch - 2ms/step\n",
            "Epoch 160/200\n",
            "40/40 - 0s - loss: 0.9265 - 82ms/epoch - 2ms/step\n",
            "Epoch 161/200\n",
            "40/40 - 0s - loss: 0.9265 - 84ms/epoch - 2ms/step\n",
            "Epoch 162/200\n",
            "40/40 - 0s - loss: 0.9265 - 77ms/epoch - 2ms/step\n",
            "Epoch 163/200\n",
            "40/40 - 0s - loss: 0.9265 - 79ms/epoch - 2ms/step\n",
            "Epoch 164/200\n",
            "40/40 - 0s - loss: 0.9265 - 93ms/epoch - 2ms/step\n",
            "Epoch 165/200\n",
            "40/40 - 0s - loss: 0.9265 - 79ms/epoch - 2ms/step\n",
            "Epoch 166/200\n",
            "40/40 - 0s - loss: 0.9265 - 79ms/epoch - 2ms/step\n",
            "Epoch 167/200\n",
            "40/40 - 0s - loss: 0.9265 - 89ms/epoch - 2ms/step\n",
            "Epoch 168/200\n",
            "40/40 - 0s - loss: 0.9266 - 78ms/epoch - 2ms/step\n",
            "Epoch 169/200\n",
            "40/40 - 0s - loss: 0.9265 - 79ms/epoch - 2ms/step\n",
            "Epoch 170/200\n",
            "40/40 - 0s - loss: 0.9265 - 91ms/epoch - 2ms/step\n",
            "Epoch 171/200\n",
            "40/40 - 0s - loss: 0.9265 - 87ms/epoch - 2ms/step\n",
            "Epoch 172/200\n",
            "40/40 - 0s - loss: 0.9266 - 109ms/epoch - 3ms/step\n",
            "Epoch 173/200\n",
            "40/40 - 0s - loss: 0.9267 - 83ms/epoch - 2ms/step\n",
            "Epoch 174/200\n",
            "40/40 - 0s - loss: 0.9265 - 76ms/epoch - 2ms/step\n",
            "Epoch 175/200\n",
            "40/40 - 0s - loss: 0.9264 - 91ms/epoch - 2ms/step\n",
            "Epoch 176/200\n",
            "40/40 - 0s - loss: 0.9266 - 76ms/epoch - 2ms/step\n",
            "Epoch 177/200\n",
            "40/40 - 0s - loss: 0.9265 - 86ms/epoch - 2ms/step\n",
            "Epoch 178/200\n",
            "40/40 - 0s - loss: 0.9266 - 77ms/epoch - 2ms/step\n",
            "Epoch 179/200\n",
            "40/40 - 0s - loss: 0.9265 - 76ms/epoch - 2ms/step\n",
            "Epoch 180/200\n",
            "40/40 - 0s - loss: 0.9265 - 80ms/epoch - 2ms/step\n",
            "Epoch 181/200\n",
            "40/40 - 0s - loss: 0.9265 - 77ms/epoch - 2ms/step\n",
            "Epoch 182/200\n",
            "40/40 - 0s - loss: 0.9267 - 75ms/epoch - 2ms/step\n",
            "Epoch 183/200\n",
            "40/40 - 0s - loss: 0.9265 - 79ms/epoch - 2ms/step\n",
            "Epoch 184/200\n",
            "40/40 - 0s - loss: 0.9265 - 77ms/epoch - 2ms/step\n",
            "Epoch 185/200\n",
            "40/40 - 0s - loss: 0.9265 - 91ms/epoch - 2ms/step\n",
            "Epoch 186/200\n",
            "40/40 - 0s - loss: 0.9266 - 78ms/epoch - 2ms/step\n",
            "Epoch 187/200\n",
            "40/40 - 0s - loss: 0.9265 - 89ms/epoch - 2ms/step\n",
            "Epoch 188/200\n",
            "40/40 - 0s - loss: 0.9266 - 79ms/epoch - 2ms/step\n",
            "Epoch 189/200\n",
            "40/40 - 0s - loss: 0.9265 - 80ms/epoch - 2ms/step\n",
            "Epoch 190/200\n",
            "40/40 - 0s - loss: 0.9265 - 77ms/epoch - 2ms/step\n",
            "Epoch 191/200\n",
            "40/40 - 0s - loss: 0.9265 - 86ms/epoch - 2ms/step\n",
            "Epoch 192/200\n",
            "40/40 - 0s - loss: 0.9265 - 86ms/epoch - 2ms/step\n",
            "Epoch 193/200\n",
            "40/40 - 0s - loss: 0.9266 - 75ms/epoch - 2ms/step\n",
            "Epoch 194/200\n",
            "40/40 - 0s - loss: 0.9265 - 85ms/epoch - 2ms/step\n",
            "Epoch 195/200\n",
            "40/40 - 0s - loss: 0.9265 - 79ms/epoch - 2ms/step\n",
            "Epoch 196/200\n",
            "40/40 - 0s - loss: 0.9265 - 78ms/epoch - 2ms/step\n",
            "Epoch 197/200\n",
            "40/40 - 0s - loss: 0.9265 - 80ms/epoch - 2ms/step\n",
            "Epoch 198/200\n",
            "40/40 - 0s - loss: 0.9265 - 76ms/epoch - 2ms/step\n",
            "Epoch 199/200\n",
            "40/40 - 0s - loss: 0.9266 - 87ms/epoch - 2ms/step\n",
            "Epoch 200/200\n",
            "40/40 - 0s - loss: 0.9266 - 77ms/epoch - 2ms/step\n"
          ]
        }
      ]
    },
    {
      "cell_type": "markdown",
      "metadata": {
        "id": "DnpN3xbGe3m8"
      },
      "source": [
        "##5. Función para dibujar la gráfica del error\n",
        "Tras realizar el entrenamiento con fit, almacenamos lo que retorna ese método en una variable que llamamos history.\n",
        "\n",
        "Definimos ahora la función **plot_history** que recibiendo lo retornado por fit, crea un gráfico en el que se ve la evolución del error que se está minimizando en función de la epoch en la que se está."
      ]
    },
    {
      "cell_type": "code",
      "metadata": {
        "id": "u5_zZP9Ne7DN",
        "colab": {
          "base_uri": "https://localhost:8080/",
          "height": 506
        },
        "outputId": "04b67946-f5a9-4aed-af36-e071fee411de"
      },
      "source": [
        "def plot_history(history):\n",
        "  plt.figure()\n",
        "  plt.xlabel('Epoch')\n",
        "  plt.ylabel('Error cuadrático medio')\n",
        "  plt.plot(history.epoch, np.array(history.history['loss']),\n",
        "           label='Error (loss) en entrenamiento')\n",
        "  plt.legend()\n",
        "  plt.ylim([0, max(1,max(np.array(history.history['loss'])))])\n",
        "\n",
        "plot_history(history)\n",
        "traza_train = np.array(history.history['loss'])\n",
        "print(\"-- Mínimo error TRAIN: {:.6f}\".format(min(traza_train)))\n",
        "print(\"      Media 10 últimas epochs: ** {:.6f} **\".format(np.mean(traza_train[-10:])))\n",
        "print(\"      Desv. 10 últimas epochs: {:.6f}\".format(np.std(traza_train[-10:])))\n"
      ],
      "execution_count": null,
      "outputs": [
        {
          "output_type": "stream",
          "name": "stdout",
          "text": [
            "-- Mínimo error TRAIN: 0.926414\n",
            "      Media 10 últimas epochs: ** 0.926538 **\n",
            "      Desv. 10 últimas epochs: 0.000042\n"
          ]
        },
        {
          "output_type": "display_data",
          "data": {
            "text/plain": [
              "<Figure size 640x480 with 1 Axes>"
            ],
            "image/png": "[encoded data removed]"
          },
          "metadata": {}
        }
      ]
    },
    {
      "cell_type": "markdown",
      "metadata": {
        "id": "UJge2aCfldse"
      },
      "source": [
        "##6. Crear un modelo no lineal\n",
        "El modelo anterior tiene una limitación muy grande: es un modelo lineal y eso le impide adaptarse de manera apropiada para resolver problemas no lineales.\n",
        "\n",
        "Aun así, logra bajar el error hasta 0.926.\n",
        "\n",
        "Vamos a ver ahora lo que sucede si creamos un modelo no lineal. Para ello vamos a incluir una capa oculta que tenga como función de activación la función **ReLU**.\n",
        "\n",
        "Observa con detenimiento cómo se añade la capa, ya que tendrás posteriormente que añadir más capas."
      ]
    },
    {
      "cell_type": "code",
      "metadata": {
        "id": "-kFn5Ripl3zW",
        "colab": {
          "base_uri": "https://localhost:8080/",
          "height": 515
        },
        "outputId": "f0273767-d02d-463e-eef6-05b04d10b24e"
      },
      "source": [
        "\"\"\" SE DEFINE LA RED \"\"\"\n",
        "tf.keras.utils.set_random_seed(seed) # Fijar semilla del keras/tensorflow\n",
        "\n",
        "n_input = 2      # Celdas en la capa de entrada (variables de entrada)\n",
        "n_hidden1 = 10   # Celdas en la capa oculta\n",
        "n_output = 1     # Celdas en la capa de salida (un valor numérico)\n",
        "\n",
        "# Definir las capas del modelo\n",
        "model = Sequential()\n",
        "model.add(Dense(n_hidden1, input_dim=n_input, activation='relu',\n",
        "                name=\"hidden1_layer\"))\n",
        "model.add(Dense(n_output,name=\"output_layer\"))\n",
        "\n",
        "# Como se puede ver, se crea un modelo secuencial donde cada capa añadida recibe\n",
        "# como entrada la salida de la anterior.\n",
        "# La dimensión de la entrada siempre se define en la primera capa del modelo\n",
        "# (parámetro input_dim) => model.add(Dense(n_hidden1, input_dim=n_input, name=\"hidden1_layer\"))\n",
        "\n",
        "\n",
        "# Existe también una forma \"funcional\" de crear modelos. En este caso sería:\n",
        "# in_layer = Input(shape =(n_input,))\n",
        "# hidden_layer = Dense(n_hidden1, name=\"hidden1_layer\",activation='relu')(in_layer)\n",
        "# out_layer = Dense(n_output, name=\"out_layer\")(hidden_layer)\n",
        "#\n",
        "# model = Model(inputs = [in_layer], outputs = [out_layer])\n",
        "\n",
        "\"\"\" SE DEFINE EL MODELO \"\"\"\n",
        "\n",
        "# Learning rate del modelo. Es el alpha que multiplicará a la derivada cuando\n",
        "# se va a hacer la modificación de los parámetros que se aprenden.\n",
        "learning_rate = 0.001\n",
        "\n",
        "# Definir el optimizador a utilizar (SGD, descenso del gradiente estocástico)\n",
        "sgd = SGD(lr=learning_rate)\n",
        "\n",
        "# Compilar el modelo indicando la función de pérdida (loss) y el optimizador\n",
        "model.compile(loss='mean_squared_error', optimizer=sgd )\n",
        "\n",
        "\"\"\" SE VISUALIZA EL MODELO \"\"\"\n",
        "\n",
        "# Imprimir en modo texto finalmente el resumen/arquitectura de nuestro modelo\n",
        "# Esta información permite conocer cuántos parámetros  se han de aprender\n",
        "model.summary()\n",
        "\n",
        "# Obtener un fichero con la representación gráfica del modelo\n",
        "plot_model(model, to_file='model.png')\n",
        "# Después de ejecutar esta línea se genera el fichero 'model.png'. Para poder\n",
        "# verlo, tienes que ir a la parte izquierda, acceder a la pestaña 'Archivos' y\n",
        "# 'actualizar', aparecerá entonces el archivo y podrás verlo (doble click sobre\n",
        "# el fichero 'model.png' o click con el botón derecho para descargarlo)"
      ],
      "execution_count": null,
      "outputs": [
        {
          "output_type": "stream",
          "name": "stderr",
          "text": [
            "WARNING:absl:`lr` is deprecated, please use `learning_rate` instead, or use the legacy optimizer, e.g.,tf.keras.optimizers.legacy.SGD.\n"
          ]
        },
        {
          "output_type": "stream",
          "name": "stdout",
          "text": [
            "Model: \"sequential_1\"\n",
            "_________________________________________________________________\n",
            " Layer (type)                Output Shape              Param #   \n",
            "=================================================================\n",
            " hidden1_layer (Dense)       (None, 10)                30        \n",
            "                                                                 \n",
            " output_layer (Dense)        (None, 1)                 11        \n",
            "                                                                 \n",
            "=================================================================\n",
            "Total params: 41\n",
            "Trainable params: 41\n",
            "Non-trainable params: 0\n",
            "_________________________________________________________________\n"
          ]
        },
        {
          "output_type": "execute_result",
          "data": {
            "image/png": "[encoded data removed]",
            "text/plain": [
              "<IPython.core.display.Image object>"
            ]
          },
          "metadata": {},
          "execution_count": 6
        }
      ]
    },
    {
      "cell_type": "markdown",
      "metadata": {
        "id": "zbzpqPVCGlmQ"
      },
      "source": [
        "##7. Y lo ejecutamos\n",
        "Ponemos **verbose=0** y así no tendremos que hacer tanto scroll. Eso sí, el resultado final tardará en aparecer unos segundos."
      ]
    },
    {
      "cell_type": "code",
      "metadata": {
        "id": "OS9905yOm41B",
        "colab": {
          "base_uri": "https://localhost:8080/",
          "height": 335
        },
        "outputId": "8f8b0060-9043-4ea8-9517-90fa82bcc12a"
      },
      "source": [
        "#Entrenar el modelo a partir de los ejemplos de TRAIN creados en el punto 2\n",
        "history = model.fit(laX, laY, batch_size=batch, epochs=n_epochs, verbose=0 )\n",
        "\n",
        "plot_history(history)\n",
        "traza_train = np.array(history.history['loss'])\n",
        "print(\"-- Mínimo error TRAIN: {:.6f}\".format(min(traza_train)))\n",
        "print(\"      Media 10 últimas epochs: ** {:.6f} **\".format(np.mean(traza_train[-10:])))\n",
        "print(\"      Desv. 10 últimas epochs: {:.6f}\".format(np.std(traza_train[-10:])))"
      ],
      "execution_count": null,
      "outputs": [
        {
          "output_type": "stream",
          "name": "stdout",
          "text": [
            "-- Mínimo error TRAIN: 0.034841\n",
            "      Media 10 últimas epochs: ** 0.036311 **\n",
            "      Desv. 10 últimas epochs: 0.000739\n"
          ]
        },
        {
          "output_type": "display_data",
          "data": {
            "text/plain": [
              "<Figure size 432x288 with 1 Axes>"
            ],
            "image/png": "[encoded data removed]"
          },
          "metadata": {
            "needs_background": "light"
          }
        }
      ]
    },
    {
      "cell_type": "markdown",
      "metadata": {
        "id": "bOLNK8ZrEQwb"
      },
      "source": [
        "Como puedes ver, el error se ha hecho más pequeño. Esto es normal, ya que una red con una capa oculta y función de activación ReLU ya es capaz de aprender funciones no lineales."
      ]
    },
    {
      "cell_type": "markdown",
      "metadata": {
        "id": "vuEkhEnREEn8"
      },
      "source": [
        "##8. Crea tú ahora una red con 2 capas ocultas\n",
        "Debes crear una red con 2 capas ocultas. La primera con 6 celdas y la segunda con 4 celdas."
      ]
    },
    {
      "cell_type": "code",
      "metadata": {
        "id": "NIDOaK3qlvH8",
        "colab": {
          "base_uri": "https://localhost:8080/",
          "height": 647
        },
        "outputId": "ba8c3758-1691-41e5-9de8-1cfa845a6c5c"
      },
      "source": [
        "\"\"\" SE DEFINE LA RED \"\"\"\n",
        "tf.keras.utils.set_random_seed(seed) # Fijar semilla del keras/tensorflow\n",
        "\n",
        "n_hidden1 = 6\n",
        "n_hidden2 = 4\n",
        "\n",
        "model = Sequential()\n",
        "model.add(Dense(n_hidden1, input_dim=n_input, activation='relu',\n",
        "                name=\"hidden1_layer\"))\n",
        "model.add(Dense(n_hidden2, name=\"hidden2_layer\"))\n",
        "model.add(Dense(n_output,name=\"output_layer\"))\n",
        "\n",
        "\"\"\" SE DEFINE EL MODELO \"\"\"\n",
        "\n",
        "# Learning rate del modelo. Es el alpha que multiplicará a la derivada cuando\n",
        "# se va a hacer la modificación de los parámetros que se aprenden. En el vídeo\n",
        "# del \"Descenso del gradiente\" se explica su función\n",
        "learning_rate = 0.001\n",
        "\n",
        "# Definir el optimizador a utilizar (SGD, descenso del gradiente estocástico)\n",
        "sgd = SGD(lr=learning_rate)\n",
        "\n",
        "# Compilar el modelo indicando la función de pérdida (loss) y el optimizador\n",
        "model.compile(loss='mean_squared_error', optimizer=sgd )\n",
        "\n",
        "\"\"\" SE VISUALIZA EL MODELO \"\"\"\n",
        "\n",
        "# Imprimir en modo texto finalmente el resumen/arquitectura de nuestro modelo\n",
        "# Esta información permite conocer el número de parámetros que se han de aprender\n",
        "model.summary()\n",
        "\n",
        "# Obtener un fichero con la representación gráfica del modelo\n",
        "plot_model(model, to_file='model.png')\n",
        "# Después de ejecutar esta línea se genera el fichero 'model.png'. Para poder\n",
        "# verlo, tienes que ir a la parte izquierda, acceder a la pestaña 'Archivos' y\n",
        "# 'actualizar', aparecerá entonces el archivo y podrás verlo (doble click sobre\n",
        "# el fichero 'model.png' o click con el botón derecho para descargarlo)"
      ],
      "execution_count": null,
      "outputs": [
        {
          "output_type": "stream",
          "name": "stderr",
          "text": [
            "WARNING:absl:`lr` is deprecated, please use `learning_rate` instead, or use the legacy optimizer, e.g.,tf.keras.optimizers.legacy.SGD.\n"
          ]
        },
        {
          "output_type": "stream",
          "name": "stdout",
          "text": [
            "Model: \"sequential_2\"\n",
            "_________________________________________________________________\n",
            " Layer (type)                Output Shape              Param #   \n",
            "=================================================================\n",
            " hidden1_layer (Dense)       (None, 6)                 18        \n",
            "                                                                 \n",
            " hidden2_layer (Dense)       (None, 4)                 28        \n",
            "                                                                 \n",
            " output_layer (Dense)        (None, 1)                 5         \n",
            "                                                                 \n",
            "=================================================================\n",
            "Total params: 51\n",
            "Trainable params: 51\n",
            "Non-trainable params: 0\n",
            "_________________________________________________________________\n"
          ]
        },
        {
          "output_type": "execute_result",
          "data": {
            "image/png": "[encoded data removed]",
            "text/plain": [
              "<IPython.core.display.Image object>"
            ]
          },
          "metadata": {},
          "execution_count": 9
        }
      ]
    },
    {
      "cell_type": "markdown",
      "metadata": {
        "id": "O5kOtKcwDhOY"
      },
      "source": [
        "Ejecuta el siguiente código para ver el rendimiento de la red que acabas de crear."
      ]
    },
    {
      "cell_type": "code",
      "metadata": {
        "id": "ErGGqo9olKX_",
        "colab": {
          "base_uri": "https://localhost:8080/",
          "height": 331
        },
        "outputId": "40fec9f9-f07a-4592-e0cd-21b9e283b5be"
      },
      "source": [
        "#Entrenar el modelo a partir de los ejemplos de TRAIN creados en el punto 2\n",
        "history = model.fit(laX, laY, batch_size=batch, epochs=n_epochs, verbose=0 )\n",
        "\n",
        "plot_history(history)\n",
        "traza_train = np.array(history.history['loss'])\n",
        "print(\"-- Mínimo error TRAIN: {:.6f}\".format(min(traza_train)))\n",
        "print(\"      Media 10 últimas epochs: ** {:.6f} **\".format(np.mean(traza_train[-10:])))\n",
        "print(\"      Desv. 10 últimas epochs: {:.6f}\".format(np.std(traza_train[-10:])))"
      ],
      "execution_count": null,
      "outputs": [
        {
          "output_type": "stream",
          "name": "stdout",
          "text": [
            "-- Mínimo error TRAIN: 0.174914\n",
            "      Media 10 últimas epochs: ** 0.189470 **\n",
            "      Desv. 10 últimas epochs: 0.009168\n"
          ]
        },
        {
          "output_type": "display_data",
          "data": {
            "text/plain": [
              "<Figure size 432x288 with 1 Axes>"
            ],
            "image/png": "[encoded data removed]"
          },
          "metadata": {
            "needs_background": "light"
          }
        }
      ]
    },
    {
      "cell_type": "markdown",
      "metadata": {
        "id": "vg-EH8A0Us6d"
      },
      "source": [
        "Puedes probar otras configuraciones de red para intentar obtener mejores resultados."
      ]
    },
    {
      "cell_type": "code",
      "source": [
        "n_hidden1 = 80\n",
        "n_hidden2 = 60\n",
        "\n",
        "model = Sequential()\n",
        "model.add(Dense(n_hidden1, input_dim=n_input, activation='relu',\n",
        "                name=\"hidden1_layer\"))\n",
        "model.add(Dense(n_hidden2, activation='sigmoid', name='hidden2_layer'))\n",
        "model.add(Dense(n_output,name=\"output_layer\"))\n",
        "\n",
        "\"\"\" SE DEFINE EL MODELO \"\"\"\n",
        "\n",
        "# Learning rate del modelo. Es el alpha que multiplicará a la derivada cuando\n",
        "# se va a hacer la modificación de los parámetros que se aprenden. En el vídeo\n",
        "# del \"Descenso del gradiente\" se explica su función\n",
        "learning_rate = 0.001\n",
        "\n",
        "# Definir el optimizador a utilizar (SGD, descenso del gradiente estocástico)\n",
        "sgd = SGD(lr=learning_rate)\n",
        "\n",
        "# Compilar el modelo indicando la función de pérdida (loss) y el optimizador\n",
        "model.compile(loss='mean_squared_error', optimizer=sgd )\n",
        "\n",
        "plot_model(model, to_file='model.png')\n",
        "\n",
        "history = model.fit(laX, laY, batch_size=batch, epochs=n_epochs, verbose=0 )\n",
        "\n",
        "plot_history(history)\n",
        "traza_train = np.array(history.history['loss'])\n",
        "print(\"-- Mínimo error TRAIN: {:.6f}\".format(min(traza_train)))\n",
        "print(\"      Media 10 últimas epochs: ** {:.6f} **\".format(np.mean(traza_train[-10:])))\n",
        "print(\"      Desv. 10 últimas epochs: {:.6f}\".format(np.std(traza_train[-10:])))"
      ],
      "metadata": {
        "id": "ydVCvDDZKnqV",
        "colab": {
          "base_uri": "https://localhost:8080/",
          "height": 352
        },
        "outputId": "a3f7ba7a-3e12-4f5b-82ad-624f938cc0c0"
      },
      "execution_count": null,
      "outputs": [
        {
          "output_type": "stream",
          "name": "stderr",
          "text": [
            "WARNING:absl:`lr` is deprecated, please use `learning_rate` instead, or use the legacy optimizer, e.g.,tf.keras.optimizers.legacy.SGD.\n"
          ]
        },
        {
          "output_type": "stream",
          "name": "stdout",
          "text": [
            "-- Mínimo error TRAIN: 0.033086\n",
            "      Media 10 últimas epochs: ** 0.034233 **\n",
            "      Desv. 10 últimas epochs: 0.000754\n"
          ]
        },
        {
          "output_type": "display_data",
          "data": {
            "text/plain": [
              "<Figure size 432x288 with 1 Axes>"
            ],
            "image/png": "[encoded data removed]"
          },
          "metadata": {
            "needs_background": "light"
          }
        }
      ]
    }
  ]
}