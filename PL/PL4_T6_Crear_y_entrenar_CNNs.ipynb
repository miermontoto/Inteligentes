{
  "cells": [
    {
      "cell_type": "markdown",
      "metadata": {
        "id": "Q_DNYFG2KW-B"
      },
      "source": [
        "## **Práctica 6: Deep learning 2 - Crear y entrenar CNNs**\n",
        "\n",
        "Las redes de neuronas convolucionales o simplemente **redes convolucionales** (CNNs, del inglés *convolutional neural networks*), son un tipo de redes neuronales profundas. De hecho son muy similares a estas, dado que también tienen una capa de entrada, una o varias capas ocultas, y una capa de salida,  definidas todas ellas por unos parámetros que se aprenden durante la fase de entrenamiento. Por tanto, una CNN se puede expresar como una función derivable que utiliza los píxeles de una imagen de entrada para obtener unas probabilidades para cada una de las clases objetivo (problema de clasificación) o un valor numérico (problema de regresión).\n",
        "\n",
        "A continuación, veremos un ejemplo en el que crearemos una CNN desde cero, utilizando la librería [TensorFlow](https://www.tensorflow.org/)."
      ]
    },
    {
      "cell_type": "markdown",
      "metadata": {
        "id": "8SycyatPxOKc"
      },
      "source": [
        "**NOTA IMPORTANTE**\n",
        "\n",
        "Recuerda que este notebook está compartido con **permisos de lectura**. Para poder interactuar con él, **debes hacer una copia del mismo en tu Drive** usando la opción correspondiente del menú `Archivo` de *Colaboratory*.\n",
        "\n",
        "Recuerda también que si durante la realización de la práctica tienes la sensación de que **el notebook no está funcionando bien**, puedes ir al menú \"Entorno de ejecución\" de *Colaboratory* y \"Reiniciar entorno de ejecución\"."
      ]
    },
    {
      "cell_type": "markdown",
      "metadata": {
        "id": "K2lZ0JdfKtTd"
      },
      "source": [
        "### **1. Preparar los datos de entrenamiento**\n",
        "\n",
        "En esta práctica vamos a utilizar un conjunto para clasificación de imágenes denominado **CIFAR10**, que está compuesto por 50.000 imágenes de entrenamiento y 10.000 imágenes de test. Se trata de imágenes en color, de dimensiones espaciales 32x32 y etiquetadas en 10 categorías. Este conjunto de datos está disponible para descarga en `TensorFlow`, [tf.keras.datasets.cifar10](https://www.tensorflow.org/api_docs/python/tf/keras/datasets/cifar10).\n",
        "\n",
        "En la web de `TensorFlow` puedes encontrar otros conjuntos de datos: [tf.keras.datasets](https://www.tensorflow.org/api_docs/python/tf/keras/datasets)\n",
        "\n",
        "**NOTA**: La descarga del conjunto de imágenes puede tardar varios minutos."
      ]
    },
    {
      "cell_type": "code",
      "execution_count": null,
      "metadata": {
        "id": "MoBijXK-KQnh"
      },
      "outputs": [],
      "source": [
        "from tensorflow.keras.datasets import cifar10\n",
        "\n",
        "# Cargar los datos de CIFAR10 (entrenamiento y test)\n",
        "(x_train, y_train), (x_test, y_test) = cifar10.load_data()"
      ]
    },
    {
      "cell_type": "markdown",
      "metadata": {
        "id": "KApXwaAT6jrz"
      },
      "source": [
        "A continuación, vamos a especificar información relevante del conjunto de datos y codificar las diferentes clases utilizando el método [`to_categorical()`](https://www.tensorflow.org/api_docs/python/tf/keras/utils/to_categorical), disponible en `TensorFlow`."
      ]
    },
    {
      "cell_type": "code",
      "execution_count": null,
      "metadata": {
        "id": "ot-O3iOB6jbx"
      },
      "outputs": [],
      "source": [
        "from tensorflow.keras.utils import to_categorical\n",
        "\n",
        "# Especificar el número de clases y la dimensión de las imágenes de entrada\n",
        "n_classes = 10                # número de clases\n",
        "img_width = img_height = 32   # dimensión de las imágenes\n",
        "\n",
        "# Convertir el vector de etiquetas en una matriz binaria para codificar las diferentes clases\n",
        "y_train = to_categorical(y_train, n_classes)\n",
        "y_test = to_categorical(y_test, n_classes)"
      ]
    },
    {
      "cell_type": "markdown",
      "metadata": {
        "id": "dOoexDIN6xU0"
      },
      "source": [
        "El siguiente paso consiste en dividir el conjunto de entrenamiento, dejando una parte para validación (80:20); y normalizar los datos de entrada. Además, generaremos los *batches* necesarios para entrenar la red que se definirá a continuación.\n",
        "\n",
        "Para ello utilizaremos [`ImageDataGenerator()`](https://www.tensorflow.org/api_docs/python/tf/keras/preprocessing/image/ImageDataGenerator), que permite generar batches de imágenes con diferentes técnicas de *data augmentation*, utilizando para ello una serie de parámetros opcionales que **no** se han considerado en este ejemplo."
      ]
    },
    {
      "cell_type": "code",
      "execution_count": null,
      "metadata": {
        "id": "IWbi1M1N6xpf"
      },
      "outputs": [],
      "source": [
        "from tensorflow.keras.preprocessing.image import ImageDataGenerator\n",
        "\n",
        "# Preparar los datos, dejando una parte para validación y utilizando normalización (featurewise)\n",
        "val_split = 0.3\n",
        "datagen = ImageDataGenerator(featurewise_center=True,\n",
        "                             featurewise_std_normalization=True,\n",
        "                             validation_split=val_split)\n",
        "datagen.fit(x_train)  # calcular los valores para la normalizacion (media, desviación típica)\n",
        "\n",
        "# Generar los batches con los datos para las tres particiones: entrenamiento, validación y test\n",
        "batch_size = 128\n",
        "data_train = datagen.flow(x_train, y_train, batch_size=batch_size, subset=\"training\")\n",
        "data_dev = datagen.flow(x_train, y_train, batch_size=batch_size, subset=\"validation\")\n",
        "data_test = datagen.flow(x_test, y_test, batch_size=batch_size)"
      ]
    },
    {
      "cell_type": "markdown",
      "metadata": {
        "id": "f3ZMlU4U5-30"
      },
      "source": [
        "### **2. Crear una CNN**\n",
        "\n",
        "El siguiente paso consiste en crear una sencilla CNN utilizando las siguientes capas:\n",
        "\n",
        "*   [Capa convolucional](https://www.tensorflow.org/api_docs/python/tf/keras/layers/Conv2D): *Conv2D(n_filters, kernel_size)* crea un *kernel* de convolución con *n_filters* de tamaño *kernel_size* que se aplica a los datos de entrada para producir un tensor de salidas. Si *use_bias* es `True`, se crea un vector de sesgo y se suma a las salidas. Si *activation* no es `None`, también se aplica a las salidas. Otros parámetros relevantes:\n",
        "> * *strides*: un entero o tupla/lista de dos enteros que especifique el paso de la convolución a lo largo del alto y ancho del volumen de entrada. Especificar un entero implica que se usará el mismo valor para todas las dimensiones espaciales (alto, ancho).\n",
        "> * *padding*: `valid`, que significa sin relleno; o `same`, que da como resultado un relleno de ceros uniforme (izquieda/derecha y arriba/abajo). Si `padding='same'`y `strides=1`, la salida tiene el mismo tamaño que la entrada.\n",
        "> * *activation*: función de activación (`relu`, `sigmoid`, etc.) Por defecto, `activation=None` (es decir, no se utiliza función de activación).\n",
        "> * *input_shape*: cuando se utiliza como primera capa del modelo, es necesario indicar las dimensiones del volumen de entrada; por ejemplo, `input_shape=(128, 128, 3)` para imágenes RGB de 128x128 en formato `data_format=\"channels_last\"`.\n",
        "\n",
        "*   [Capa max-pooling](https://www.tensorflow.org/api_docs/python/tf/keras/layers/MaxPool2D): *MaxPool2D()* reduce los datos de entrada a lo largo de las dimensiones espaciales (alto, ancho) utilizando, para cada canal de la entrada, el valor máximo sobre una ventana de tamaño *pool_size* (por defecto, `pool_size=2`). La ventana se desplaza a lo largo de cada dimensión utilizando el valor de paso *strides* (por defecto, `strides=pool_size`).\n",
        "\n",
        "*   [Capa flatten](https://www.tensorflow.org/api_docs/python/tf/keras/layers/Flatten): *Flatten()* aplana la entrada, convirtiendo un volumen en vector.\n",
        "\n",
        "*   [Capa completamente conectada](https://www.tensorflow.org/api_docs/python/tf/keras/layers/Dense): *Dense(units)* crea una capa complementamente conectada con el número de neuronas especificado en *units*. Otros parámetros relevantes:\n",
        "> * *activation*: función de activación (`relu`, `sigmoid`, `softmax`, etc.)\n",
        "> * *use_bias*: Booleano que indica si la capa utiliza un vector de sesgo (`True`, valor por defecto) o no (`False`).\n",
        "\n",
        "Por último, utilizaremos el método [`summary()`](https://www.tensorflow.org/api_docs/python/tf/keras/Model#summary) para imprimir una representación en modo texto de la arquitectura definida. Con este método podremos visualizar también el número de parámetros de cada capa de la red."
      ]
    },
    {
      "cell_type": "code",
      "execution_count": null,
      "metadata": {
        "id": "Bl9OmmIZ5_oG"
      },
      "outputs": [],
      "source": [
        "from tensorflow.keras.models import Sequential\n",
        "from tensorflow.keras.layers import Conv2D, MaxPooling2D, Flatten, Dense, Dropout, AveragePooling2D, GlobalAveragePooling2D\n",
        "import matplotlib.pyplot as plt\n",
        "\n",
        "def get_model():\n",
        "  # Crear un modelo secuencial, compuesto por una secuencia lineal de capas\n",
        "  model = Sequential()\n",
        "\n",
        "  # Añadir dos capas convolucionales de 32 filtros (dimensiones 3x3), con ReLU como función de activación\n",
        "  model.add(Conv2D(32, 3, activation='relu', input_shape=(img_width,img_height,3)))  # primera capa (input_shape)\n",
        "  model.add(Conv2D(32, 3, activation='relu'))\n",
        "  # Añadir una capa max-pooling con tamaño de ventana 2\n",
        "  model.add(MaxPooling2D())\n",
        "  model.add(Dropout(0.5))\n",
        "\n",
        "  # Añadir dos capas convolucionales de 64 filtros (dimensiones 3x3), con ReLU como función de activación\n",
        "  model.add(Conv2D(64, 3, activation='relu'))\n",
        "  model.add(Conv2D(64, 3, activation='relu'))\n",
        "  # Añadir una capa max-pooling con tamaño de ventana 2\n",
        "  model.add(MaxPooling2D())\n",
        "  model.add(Dropout(0.7))\n",
        "\n",
        "  # Transformar el volumen de entrada en un vector\n",
        "  model.add(Flatten())\n",
        "  # Añadir una capa completamente conectada con 512 neuronas, con ReLU como función de activación\n",
        "  model.add(Dense(512, activation='relu'))\n",
        "  #model.add(Dense(256, activation='sigmoid'))\n",
        "  # Añadir una última capa completamente conectada con 10 neuronas (número de clases) para obtener la salida de la red, utilizando la función softmax\n",
        "  model.add(Dense(n_classes, activation='softmax'))\n",
        "\n",
        "  # Imprimir la representacion en modo texto del modelo\n",
        "  model.summary()\n",
        "\n",
        "  return model\n",
        "\n",
        "def plot_history(history):\n",
        "  # Este método se encarga de dibujar las gráficas de loss al final del entrenamiento\n",
        "  plt.figure()\n",
        "  plt.xlabel('Epoch')\n",
        "  plt.ylabel('categorical_crossentropy')\n",
        "  plt.plot(history.epoch, history.history['loss'], label='Train Loss')\n",
        "  plt.plot(history.epoch, history.history['val_loss'], label='Validation Loss')\n",
        "  plt.legend()\n",
        "  plt.ylim([0, max(history.history['loss'])])"
      ]
    },
    {
      "cell_type": "markdown",
      "metadata": {
        "id": "RKFHO8I2Pp2o"
      },
      "source": [
        "### **3. Entrenar una CNN**\n",
        "\n",
        "Una vez definida la arquitectura de la CNN, el siguiente paso es configurar el modelo para el entrenamiento. Para ello utilizaremos el método [`compile()`](https://www.tensorflow.org/api_docs/python/tf/keras/Model#compile), siendo estos algunos de sus parámetros más relevantes:\n",
        "* *optimizer*: nombre del optimizador (`Adam`, `RMSProp`, etc.) y tasa de aprendizaje (`learning_rate`). Ver [tf.keras.optimizers](https://www.tensorflow.org/api_docs/python/tf/keras/optimizers).\n",
        "* *loss*: función de pérdida (`mean_squared_error`, `binary_crossentropy`, `categorical_crossentropy`, etc.). Ver [tf.keras.losses](https://www.tensorflow.org/api_docs/python/tf/keras/losses).\n",
        "* *metrics*: métricas que evaluará el modelo durante el entrenamiento y la validación (`accuracy`, etc.). Ver [tf.keras.metrics](https://www.tensorflow.org/api_docs/python/tf/keras/metrics).\n"
      ]
    },
    {
      "cell_type": "code",
      "execution_count": null,
      "metadata": {
        "colab": {
          "base_uri": "https://localhost:8080/"
        },
        "id": "47DpqgzhPuFH",
        "outputId": "9f8f81ef-be26-4849-f70e-6fb9aeb5a1bf"
      },
      "outputs": [
        {
          "output_type": "stream",
          "name": "stdout",
          "text": [
            "Model: \"sequential_40\"\n",
            "_________________________________________________________________\n",
            " Layer (type)                Output Shape              Param #   \n",
            "=================================================================\n",
            " conv2d_168 (Conv2D)         (None, 30, 30, 32)        896       \n",
            "                                                                 \n",
            " conv2d_169 (Conv2D)         (None, 28, 28, 32)        9248      \n",
            "                                                                 \n",
            " max_pooling2d_77 (MaxPoolin  (None, 14, 14, 32)       0         \n",
            " g2D)                                                            \n",
            "                                                                 \n",
            " dropout_76 (Dropout)        (None, 14, 14, 32)        0         \n",
            "                                                                 \n",
            " conv2d_170 (Conv2D)         (None, 12, 12, 64)        18496     \n",
            "                                                                 \n",
            " conv2d_171 (Conv2D)         (None, 10, 10, 64)        36928     \n",
            "                                                                 \n",
            " max_pooling2d_78 (MaxPoolin  (None, 5, 5, 64)         0         \n",
            " g2D)                                                            \n",
            "                                                                 \n",
            " dropout_77 (Dropout)        (None, 5, 5, 64)          0         \n",
            "                                                                 \n",
            " flatten_35 (Flatten)        (None, 1600)              0         \n",
            "                                                                 \n",
            " dense_77 (Dense)            (None, 512)               819712    \n",
            "                                                                 \n",
            " dense_78 (Dense)            (None, 10)                5130      \n",
            "                                                                 \n",
            "=================================================================\n",
            "Total params: 890,410\n",
            "Trainable params: 890,410\n",
            "Non-trainable params: 0\n",
            "_________________________________________________________________\n"
          ]
        }
      ],
      "source": [
        "from tensorflow.keras import optimizers\n",
        "\n",
        "# Crear el modelo\n",
        "model = get_model()\n",
        "\n",
        "# Configurar el proceso de aprendizaje\n",
        "l_rate = 0.00075  # tasa de aprendizaje\n",
        "model.compile(loss='categorical_crossentropy',                  # función de pérdida para problemas de clasificación multi-clase\n",
        "              optimizer=optimizers.Adam(learning_rate=l_rate),  # optimizador Adam\n",
        "              metrics=['accuracy'])"
      ]
    },
    {
      "cell_type": "markdown",
      "metadata": {
        "id": "yLanSdVfPub5"
      },
      "source": [
        "\n",
        "A continuación, entrenaremos el modelo para buscar los parámetros que hagan mínima la función de pérdida. Para ello utilizaremos el método [`fit()`](https://www.tensorflow.org/api_docs/python/tf/keras/Model#fit), que necesita que le suministremos los datos de entrenamiento y validación, el número de *epochs* y el tamaño de *batch* (para calcular el número de *steps_per_epoch*).\n",
        "\n",
        "Al finalizar cada *epoch* se mostrará una línea con, por ejemplo, la siguiente información:\n",
        "\n",
        "> `11s - loss: 1.5593 - acc: 0.4327 - val_loss: 1.2593 - val_acc: 0.5539`\n",
        "\n",
        "El primer número (`11s`) son los segundos que le ha llevado completar la epoch. `loss` es el valor de la función de pérdida calculado sobre el conjunto de entrenamiento y `val_loss` lo mismo pero calculado sobre el conjunto de validación (cuanto menor, mejor). `acc` y `val_acc` son el ratio de acierto (*accuracy*) calculado sobre el conjunto de entrenamiento y validación, respectivamente (cuanto mayor, mejor)."
      ]
    },
    {
      "cell_type": "code",
      "execution_count": null,
      "metadata": {
        "colab": {
          "base_uri": "https://localhost:8080/",
          "height": 1000
        },
        "id": "dRTI3u39skYw",
        "outputId": "1acb8705-d889-4884-fd08-ef3e08f809c0"
      },
      "outputs": [
        {
          "output_type": "stream",
          "name": "stdout",
          "text": [
            "Epoch 1/25\n",
            "273/273 [==============================] - 8s 18ms/step - loss: 1.7169 - accuracy: 0.3665 - val_loss: 1.4200 - val_accuracy: 0.4793\n",
            "Epoch 2/25\n",
            "273/273 [==============================] - 6s 21ms/step - loss: 1.3917 - accuracy: 0.4921 - val_loss: 1.2327 - val_accuracy: 0.5565\n",
            "Epoch 3/25\n",
            "273/273 [==============================] - 5s 17ms/step - loss: 1.2681 - accuracy: 0.5390 - val_loss: 1.1021 - val_accuracy: 0.6102\n",
            "Epoch 4/25\n",
            "273/273 [==============================] - 6s 20ms/step - loss: 1.1718 - accuracy: 0.5811 - val_loss: 1.0095 - val_accuracy: 0.6389\n",
            "Epoch 5/25\n",
            "273/273 [==============================] - 5s 18ms/step - loss: 1.0987 - accuracy: 0.6053 - val_loss: 0.9572 - val_accuracy: 0.6629\n",
            "Epoch 6/25\n",
            "273/273 [==============================] - 5s 19ms/step - loss: 1.0315 - accuracy: 0.6351 - val_loss: 0.9005 - val_accuracy: 0.6801\n",
            "Epoch 7/25\n",
            "273/273 [==============================] - 5s 17ms/step - loss: 0.9917 - accuracy: 0.6468 - val_loss: 0.8763 - val_accuracy: 0.6924\n",
            "Epoch 8/25\n",
            "273/273 [==============================] - 6s 20ms/step - loss: 0.9444 - accuracy: 0.6680 - val_loss: 0.8355 - val_accuracy: 0.7049\n",
            "Epoch 9/25\n",
            "273/273 [==============================] - 5s 19ms/step - loss: 0.9154 - accuracy: 0.6750 - val_loss: 0.8110 - val_accuracy: 0.7108\n",
            "Epoch 10/25\n",
            "273/273 [==============================] - 5s 18ms/step - loss: 0.8825 - accuracy: 0.6901 - val_loss: 0.7947 - val_accuracy: 0.7229\n",
            "Epoch 11/25\n",
            "273/273 [==============================] - 5s 18ms/step - loss: 0.8604 - accuracy: 0.6942 - val_loss: 0.7665 - val_accuracy: 0.7292\n",
            "Epoch 12/25\n",
            "273/273 [==============================] - 6s 21ms/step - loss: 0.8310 - accuracy: 0.7066 - val_loss: 0.7619 - val_accuracy: 0.7307\n",
            "Epoch 13/25\n",
            "273/273 [==============================] - 6s 21ms/step - loss: 0.8103 - accuracy: 0.7124 - val_loss: 0.7467 - val_accuracy: 0.7363\n",
            "Epoch 14/25\n",
            "273/273 [==============================] - 5s 18ms/step - loss: 0.7942 - accuracy: 0.7200 - val_loss: 0.7176 - val_accuracy: 0.7442\n",
            "Epoch 15/25\n",
            "273/273 [==============================] - 5s 19ms/step - loss: 0.7671 - accuracy: 0.7286 - val_loss: 0.6981 - val_accuracy: 0.7553\n",
            "Epoch 16/25\n",
            "273/273 [==============================] - 5s 17ms/step - loss: 0.7553 - accuracy: 0.7325 - val_loss: 0.6924 - val_accuracy: 0.7566\n",
            "Epoch 17/25\n",
            "273/273 [==============================] - 5s 20ms/step - loss: 0.7444 - accuracy: 0.7373 - val_loss: 0.6988 - val_accuracy: 0.7538\n",
            "Epoch 18/25\n",
            "273/273 [==============================] - 5s 17ms/step - loss: 0.7238 - accuracy: 0.7453 - val_loss: 0.7084 - val_accuracy: 0.7487\n",
            "Epoch 19/25\n",
            "273/273 [==============================] - 6s 23ms/step - loss: 0.7104 - accuracy: 0.7501 - val_loss: 0.6737 - val_accuracy: 0.7597\n",
            "Epoch 20/25\n",
            "273/273 [==============================] - 5s 17ms/step - loss: 0.7057 - accuracy: 0.7534 - val_loss: 0.6862 - val_accuracy: 0.7571\n",
            "Epoch 21/25\n",
            "273/273 [==============================] - 5s 17ms/step - loss: 0.6832 - accuracy: 0.7561 - val_loss: 0.6725 - val_accuracy: 0.7630\n",
            "Epoch 22/25\n",
            "273/273 [==============================] - 6s 21ms/step - loss: 0.6802 - accuracy: 0.7578 - val_loss: 0.6660 - val_accuracy: 0.7691\n",
            "Epoch 23/25\n",
            "273/273 [==============================] - 5s 17ms/step - loss: 0.6647 - accuracy: 0.7679 - val_loss: 0.6578 - val_accuracy: 0.7664\n",
            "Epoch 24/25\n",
            "273/273 [==============================] - 6s 21ms/step - loss: 0.6530 - accuracy: 0.7684 - val_loss: 0.6711 - val_accuracy: 0.7621\n",
            "Epoch 25/25\n",
            "273/273 [==============================] - 6s 23ms/step - loss: 0.6409 - accuracy: 0.7727 - val_loss: 0.6419 - val_accuracy: 0.7723\n"
          ]
        },
        {
          "output_type": "display_data",
          "data": {
            "text/plain": [
              "<Figure size 640x480 with 1 Axes>"
            ],
            "image/png": "[encoded data removed]"
          },
          "metadata": {}
        }
      ],
      "source": [
        "# Entrenar el modelo con los datos preparados previamente\n",
        "history = model.fit(data_train,\n",
        "          epochs=25,   # número de epochs\n",
        "          verbose=1,  # muestra información al finalizar cada epoch\n",
        "          steps_per_epoch=len(x_train)*(1-val_split)/batch_size,\n",
        "          validation_data=data_dev,\n",
        "          validation_steps=len(x_train)*val_split/batch_size)\n",
        "\n",
        "plot_history(history)"
      ]
    },
    {
      "cell_type": "markdown",
      "metadata": {
        "id": "G8R7l6eX9Etj"
      },
      "source": [
        "### **4. Evaluar una CNN**\n",
        "\n",
        "Hemos visto cómo crear y entrenar una CNN desde cero, utilizando una configuración de hiperparámetros que no necesariamente es la mejor. Lo ideal sería realizar una búsqueda de hiperparámetros y, una vez obtenida la mejor configuración, evaluar el modelo sobre el conjunto de test y así obtener el resultado final.\n",
        "\n",
        "A continuación, se muestra el código para evaluar el modelo final en el conjunto de test. Para ello utilizaremos el método [`evaluate()`](https://www.tensorflow.org/api_docs/python/tf/keras/Model#evaluate) que necesita que le suministremos los datos de test y el tamaño del *batch* (para calcular el número de `steps`).\n"
      ]
    },
    {
      "cell_type": "code",
      "execution_count": null,
      "metadata": {
        "colab": {
          "base_uri": "https://localhost:8080/"
        },
        "id": "uYDEttW99GCV",
        "outputId": "4da2e914-e5c9-47cd-ddf3-0a98bce00ae3"
      },
      "outputs": [
        {
          "output_type": "stream",
          "name": "stdout",
          "text": [
            "78/78 [==============================] - 1s 12ms/step - loss: 0.6462 - accuracy: 0.7775\n",
            "test_loss: 0.6462, test_acc: 0.7775\n"
          ]
        }
      ],
      "source": [
        "# Evaluar el modelo en el conjunto de test\n",
        "test_loss, test_acc = model.evaluate(data_test,\n",
        "                                     steps=len(x_test)/batch_size,\n",
        "                                     verbose=1)\n",
        "print(\"test_loss: %.4f, test_acc: %.4f\" % (test_loss, test_acc))"
      ]
    },
    {
      "cell_type": "markdown",
      "metadata": {
        "id": "aOzvLJvLxH3a"
      },
      "source": [
        "### **5. Pruebas**\n",
        "\n",
        "Realiza una serie de pruebas con diferentes configuraciones de hiperparámetros (tasa de aprendizaje, optimizador) e intenta mejorar los resultados. Prueba también a definir tu propia arquitectura, utilizando otra secuencia de capas.\n",
        "\n",
        "Para generar nuevos ejemplos de entrenamiento utilizando diferentes técnicas de *data augmentation*, puedes utilizar otros parámetros del método [`ImageDataGenerator()`](https://www.tensorflow.org/api_docs/python/tf/keras/preprocessing/image/ImageDataGenerator).\n",
        "\n",
        "Por último, se recomienda utilizar técnicas que ayudan a prevenir el sobreajuste. Prueba a añadir capas de Dropout en tu modelo, típicamente después de las capas *pooling*, utilizando para ello distintos valores del parámetro `rate`.\n",
        "\n",
        "*   [Capa dropout](https://www.tensorflow.org/api_docs/python/tf/keras/layers/Dropout): *Dropout(rate)* pone a 0, aleatoriamente, las entradas con una frecuencia de `rate` (número real entre 0 y 1) en cada paso del proceso de entrenamiento, reduciendo así el sobreajuste."
      ]
    },
    {
      "cell_type": "markdown",
      "metadata": {
        "id": "MozYrzS09b6S"
      },
      "source": [
        "# 6. Comentarios de clase\n",
        "- MaxPooling, AveragePooling, etc solo cambia la manera que tiene de hacer el pooling.\n",
        "- steps_per_batch depende del tamaño del batch y del número de datos que se tienen y se tiene que saber calcular.\n"
      ]
    }
  ],
  "metadata": {
    "colab": {
      "provenance": []
    },
    "kernelspec": {
      "display_name": "Python 3",
      "name": "python3"
    },
    "language_info": {
      "name": "python"
    },
    "accelerator": "GPU",
    "gpuClass": "standard"
  },
  "nbformat": 4,
  "nbformat_minor": 0
}